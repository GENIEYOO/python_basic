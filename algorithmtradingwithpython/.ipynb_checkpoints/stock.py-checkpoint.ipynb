{
 "cells": [
  {
   "cell_type": "markdown",
   "metadata": {},
   "source": [
    "파이썬 모듈\n",
    "자주 사용되는 기능에 대해 이미 코드로 구현해둔 것\n"
   ]
  },
  {
   "cell_type": "code",
   "execution_count": 1,
   "metadata": {
    "collapsed": true
   },
   "outputs": [],
   "source": [
    "def cal_upper(price):\n",
    "    increment = price * 0.3\n",
    "    upper_price = price + increment\n",
    "    return upper_price\n",
    "\n",
    "def cal_lower(price):\n",
    "    decrement = price * 0.3\n",
    "    lower_price = price - decrement\n",
    "    return lower_price\n",
    "author = \"pystock\""
   ]
  },
  {
   "cell_type": "code",
   "execution_count": null,
   "metadata": {
    "collapsed": true
   },
   "outputs": [],
   "source": []
  }
 ],
 "metadata": {
  "kernelspec": {
   "display_name": "Python 2",
   "language": "python",
   "name": "python2"
  },
  "language_info": {
   "codemirror_mode": {
    "name": "ipython",
    "version": 2
   },
   "file_extension": ".py",
   "mimetype": "text/x-python",
   "name": "python",
   "nbconvert_exporter": "python",
   "pygments_lexer": "ipython2",
   "version": "2.7.14"
  }
 },
 "nbformat": 4,
 "nbformat_minor": 2
}
