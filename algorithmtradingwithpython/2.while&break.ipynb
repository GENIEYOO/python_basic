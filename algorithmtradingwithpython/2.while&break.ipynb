{
 "cells": [
  {
   "cell_type": "code",
   "execution_count": 1,
   "metadata": {
    "collapsed": true
   },
   "outputs": [],
   "source": [
    "naver_end_price = [488500, 500500, 501000, 461500, 474500]"
   ]
  },
  {
   "cell_type": "code",
   "execution_count": 2,
   "metadata": {
    "collapsed": false
   },
   "outputs": [
    {
     "name": "stdout",
     "output_type": "stream",
     "text": [
      "501000\n"
     ]
    }
   ],
   "source": [
    "print max(naver_end_price)\n"
   ]
  },
  {
   "cell_type": "code",
   "execution_count": 3,
   "metadata": {
    "collapsed": false
   },
   "outputs": [
    {
     "name": "stdout",
     "output_type": "stream",
     "text": [
      "461500\n"
     ]
    }
   ],
   "source": [
    "print min(naver_end_price)"
   ]
  },
  {
   "cell_type": "code",
   "execution_count": 4,
   "metadata": {
    "collapsed": false
   },
   "outputs": [
    {
     "name": "stdout",
     "output_type": "stream",
     "text": [
      "39500\n"
     ]
    }
   ],
   "source": [
    "print max(naver_end_price)-min(naver_end_price)"
   ]
  },
  {
   "cell_type": "code",
   "execution_count": 5,
   "metadata": {
    "collapsed": true
   },
   "outputs": [],
   "source": [
    "naver_end_price2 = {\"09/11\":488500, \"09/10\":500500, \"09/09\":501000, \"09/08\":461500, \"09/07\":474500}"
   ]
  },
  {
   "cell_type": "code",
   "execution_count": 6,
   "metadata": {
    "collapsed": false
   },
   "outputs": [
    {
     "data": {
      "text/plain": [
       "501000"
      ]
     },
     "execution_count": 6,
     "metadata": {},
     "output_type": "execute_result"
    }
   ],
   "source": [
    "naver_end_price2[\"09/09\"]"
   ]
  },
  {
   "cell_type": "code",
   "execution_count": 7,
   "metadata": {
    "collapsed": true
   },
   "outputs": [],
   "source": [
    "interest_stocks = ['Naver', 'samsung', 'sk Hynix']"
   ]
  },
  {
   "cell_type": "code",
   "execution_count": 11,
   "metadata": {
    "collapsed": false
   },
   "outputs": [
    {
     "name": "stdout",
     "output_type": "stream",
     "text": [
      "Naver: Buy 10\n",
      "samsung: Buy 10\n",
      "sk Hynix: Buy 10\n"
     ]
    }
   ],
   "source": [
    "for company in interest_stocks:\n",
    "    print(\"%s: Buy 10\" % company)\n"
   ]
  },
  {
   "cell_type": "markdown",
   "metadata": {},
   "source": [
    "튜플은 수정할 수 없다는 것 빼고 리스트와 차이없음"
   ]
  },
  {
   "cell_type": "markdown",
   "metadata": {},
   "source": [
    "for문 + 딕셔너리\n"
   ]
  },
  {
   "cell_type": "code",
   "execution_count": 13,
   "metadata": {
    "collapsed": true
   },
   "outputs": [],
   "source": [
    "interest_stocks = {\"Naver\":10, \"Samsung\":5, \"SK Hynix\":30}"
   ]
  },
  {
   "cell_type": "code",
   "execution_count": 16,
   "metadata": {
    "collapsed": false
   },
   "outputs": [
    {
     "name": "stdout",
     "output_type": "stream",
     "text": [
      "SK Hynix: Buy 30\n",
      "Samsung: Buy 5\n",
      "Naver: Buy 10\n"
     ]
    }
   ],
   "source": [
    "for company, stock_num in interest_stocks.items():\n",
    "    print(\"%s: Buy %s\" % (company, stock_num))"
   ]
  },
  {
   "cell_type": "code",
   "execution_count": 18,
   "metadata": {
    "collapsed": false
   },
   "outputs": [
    {
     "name": "stdout",
     "output_type": "stream",
     "text": [
      "SK Hynix: Buy 30\n",
      "Samsung: Buy 5\n",
      "Naver: Buy 10\n"
     ]
    }
   ],
   "source": [
    "for company in interest_stocks.keys():\n",
    "    print (\"%s: Buy %s\" %(company, interest_stocks[company]))\n"
   ]
  },
  {
   "cell_type": "markdown",
   "metadata": {},
   "source": [
    "1) while 문의 조건 확인\n",
    "2) 조건을 만족하면 while 문 내부의 코드를 차례로 수행하고, 조건을 만족하지 않으면 while 문의 다음 문장을 수행 \n",
    "3) 2)의 과정에서 while 문 내부의 코드를 차례로 수행한 경우 다시 while 문의 조건 확인으로 이동"
   ]
  },
  {
   "cell_type": "code",
   "execution_count": 19,
   "metadata": {
    "collapsed": false
   },
   "outputs": [
    {
     "name": "stdout",
     "output_type": "stream",
     "text": [
      "1\n",
      "3\n",
      "5\n",
      "7\n",
      "9\n"
     ]
    }
   ],
   "source": [
    "num = 0\n",
    "while num <=10:\n",
    "    if num% 2 == 1:\n",
    "        print(num)\n",
    "    num += 1"
   ]
  },
  {
   "cell_type": "markdown",
   "metadata": {},
   "source": [
    "break 어떤 작업을 반복적으로 수행하다가 특정 조건일 때 반복문 자체를 빠져나와야한다.\n",
    "ex)증시거래 시간이 끝나면 프로그램 끈다."
   ]
  },
  {
   "cell_type": "code",
   "execution_count": 1,
   "metadata": {
    "collapsed": false
   },
   "outputs": [
    {
     "name": "stdout",
     "output_type": "stream",
     "text": [
      "0\n",
      "1\n",
      "2\n",
      "3\n",
      "4\n",
      "5\n",
      "6\n",
      "7\n",
      "8\n",
      "9\n",
      "10\n"
     ]
    }
   ],
   "source": [
    "num = 0\n",
    "while 1:\n",
    "    print(num)\n",
    "    if num == 10:\n",
    "            break\n",
    "    num +=1"
   ]
  },
  {
   "cell_type": "code",
   "execution_count": 2,
   "metadata": {
    "collapsed": false
   },
   "outputs": [
    {
     "name": "stdout",
     "output_type": "stream",
     "text": [
      "1\n",
      "2\n",
      "3\n",
      "4\n",
      "6\n",
      "7\n",
      "8\n",
      "9\n",
      "10\n"
     ]
    }
   ],
   "source": [
    "num = 0\n",
    "while num < 10:\n",
    "    num +=1\n",
    "    if num == 5:\n",
    "        continue\n",
    "    print(num)"
   ]
  },
  {
   "cell_type": "markdown",
   "metadata": {},
   "source": [
    "이중루프"
   ]
  },
  {
   "cell_type": "code",
   "execution_count": 4,
   "metadata": {
    "collapsed": false
   },
   "outputs": [],
   "source": [
    "\n",
    "apart = [[101, 102, 103, 104], [201, 202, 203, 204], [301, 302, 303, 304], [401, 402, 403, 404]]"
   ]
  },
  {
   "cell_type": "code",
   "execution_count": 5,
   "metadata": {
    "collapsed": false
   },
   "outputs": [
    {
     "data": {
      "text/plain": [
       "101"
      ]
     },
     "execution_count": 5,
     "metadata": {},
     "output_type": "execute_result"
    }
   ],
   "source": [
    "apart[0][0]"
   ]
  },
  {
   "cell_type": "code",
   "execution_count": 6,
   "metadata": {
    "collapsed": false
   },
   "outputs": [
    {
     "name": "stdout",
     "output_type": "stream",
     "text": [
      "('Newspaper derivery: ', 101)\n",
      "('Newspaper derivery: ', 102)\n",
      "('Newspaper derivery: ', 103)\n",
      "('Newspaper derivery: ', 104)\n",
      "('Newspaper derivery: ', 201)\n",
      "('Newspaper derivery: ', 202)\n",
      "('Newspaper derivery: ', 203)\n",
      "('Newspaper derivery: ', 204)\n",
      "('Newspaper derivery: ', 301)\n",
      "('Newspaper derivery: ', 302)\n",
      "('Newspaper derivery: ', 303)\n",
      "('Newspaper derivery: ', 304)\n",
      "('Newspaper derivery: ', 401)\n",
      "('Newspaper derivery: ', 402)\n",
      "('Newspaper derivery: ', 403)\n",
      "('Newspaper derivery: ', 404)\n"
     ]
    }
   ],
   "source": [
    "for floor in apart:\n",
    "    for room in floor:\n",
    "        print(\"Newspaper derivery: \", room)"
   ]
  },
  {
   "cell_type": "code",
   "execution_count": null,
   "metadata": {
    "collapsed": true
   },
   "outputs": [],
   "source": []
  },
  {
   "cell_type": "code",
   "execution_count": null,
   "metadata": {
    "collapsed": true
   },
   "outputs": [],
   "source": []
  },
  {
   "cell_type": "code",
   "execution_count": null,
   "metadata": {
    "collapsed": true
   },
   "outputs": [],
   "source": []
  },
  {
   "cell_type": "code",
   "execution_count": null,
   "metadata": {
    "collapsed": true
   },
   "outputs": [],
   "source": []
  },
  {
   "cell_type": "code",
   "execution_count": null,
   "metadata": {
    "collapsed": true
   },
   "outputs": [],
   "source": []
  },
  {
   "cell_type": "code",
   "execution_count": null,
   "metadata": {
    "collapsed": true
   },
   "outputs": [],
   "source": []
  }
 ],
 "metadata": {
  "anaconda-cloud": {},
  "kernelspec": {
   "display_name": "Python [conda env:python27]",
   "language": "python",
   "name": "conda-env-python27-py"
  },
  "language_info": {
   "codemirror_mode": {
    "name": "ipython",
    "version": 2
   },
   "file_extension": ".py",
   "mimetype": "text/x-python",
   "name": "python",
   "nbconvert_exporter": "python",
   "pygments_lexer": "ipython2",
   "version": "2.7.14"
  }
 },
 "nbformat": 4,
 "nbformat_minor": 1
}
