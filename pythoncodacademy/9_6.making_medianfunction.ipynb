{
 "cells": [
  {
   "cell_type": "code",
   "execution_count": 1,
   "metadata": {
    "collapsed": true
   },
   "outputs": [],
   "source": [
    "#counting method \n",
    "def count(sequence,item):\n",
    "  total = 0\n",
    "  for i in sequence:\n",
    "    if i ==item:\n",
    "      total = total + 1\n",
    "  return total\n",
    "  "
   ]
  },
  {
   "cell_type": "code",
   "execution_count": 2,
   "metadata": {
    "collapsed": true
   },
   "outputs": [],
   "source": [
    "#puryfying : lefting even number only\n",
    "def purify(list):\n",
    "  result = []\n",
    "  for i in list:\n",
    "    if i % 2 != 0:\n",
    "      i = \" \"\n",
    "    else:\n",
    "      i = i\n",
    "      result.append(i)\n",
    "  return result"
   ]
  },
  {
   "cell_type": "code",
   "execution_count": 5,
   "metadata": {
    "collapsed": true
   },
   "outputs": [],
   "source": [
    "#product method : multiplying all items in list\n",
    "def product(list):\n",
    "  \n",
    "  result = 1\n",
    "  for i in list:\n",
    "    result = result*i\n",
    "   \n",
    "  return result"
   ]
  },
  {
   "cell_type": "code",
   "execution_count": 7,
   "metadata": {
    "collapsed": true
   },
   "outputs": [],
   "source": [
    "#removing duplicates function\n",
    "def remove_duplicates(list):\n",
    "    result = []\n",
    "    for i in list:\n",
    "        if i in result:\n",
    "            i = \" \"\n",
    "        else:\n",
    "            result.append(i)\n",
    "    return result"
   ]
  },
  {
   "cell_type": "code",
   "execution_count": 12,
   "metadata": {
    "collapsed": false
   },
   "outputs": [
    {
     "name": "stdout",
     "output_type": "stream",
     "text": [
      "4.5\n"
     ]
    }
   ],
   "source": [
    "#median logic = using index / (min + max)/2\n",
    "def median(list):\n",
    "    sorted_list = sorted(list)\n",
    "    if len(sorted_list) % 2 !=0:\n",
    "        index = len(sorted_list)//2\n",
    "        return sorted_list[index]\n",
    "    #리스트 아이템이 홀 수 이면 가운데 값 인덱스로 찾아서\n",
    "    elif len(sorted_list) % 2 == 0:\n",
    "        # 리스트 수가 홀 수 이면 \n",
    "        index_1 = len(sorted_list)/2 -1\n",
    "        index_2 = len(sorted_list)/2\n",
    "        #중앙 값 두 개 뽑기\n",
    "        mean = (sorted_list[index_1] + sorted_list[index_2])/2.0\n",
    "        return mean\n",
    "    \n",
    "    \n",
    "print median([2, 4, 5, 9])"
   ]
  },
  {
   "cell_type": "code",
   "execution_count": 16,
   "metadata": {
    "collapsed": false
   },
   "outputs": [
    {
     "name": "stdout",
     "output_type": "stream",
     "text": [
      "3\n"
     ]
    }
   ],
   "source": [
    "#zerobase\n",
    "def median(list):\n",
    "    sorted_list= sorted(list)\n",
    "    if len(sorted_list) % 2 != 0:\n",
    "        index = len(sorted_list)//2\n",
    "            # //나머지 버림.\n",
    "        return sorted_list[index]\n",
    "    elif len(sorted_list) == 0:\n",
    "        index_1 = len(sorted_list)/2 -1\n",
    "        index_2 = len(sorted_list)/2\n",
    "            \n",
    "        mean = (sorted_list[index_1] - sorted_list[index_2])/2.0\n",
    "        return mean\n",
    "print median([1, 2, 3, 4, 5])\n",
    "            \n",
    "            "
   ]
  },
  {
   "cell_type": "code",
   "execution_count": null,
   "metadata": {
    "collapsed": true
   },
   "outputs": [],
   "source": []
  }
 ],
 "metadata": {
  "kernelspec": {
   "display_name": "Python [conda env:python27]",
   "language": "python",
   "name": "conda-env-python27-py"
  },
  "language_info": {
   "codemirror_mode": {
    "name": "ipython",
    "version": 2
   },
   "file_extension": ".py",
   "mimetype": "text/x-python",
   "name": "python",
   "nbconvert_exporter": "python",
   "pygments_lexer": "ipython2",
   "version": "2.7.14"
  }
 },
 "nbformat": 4,
 "nbformat_minor": 1
}
