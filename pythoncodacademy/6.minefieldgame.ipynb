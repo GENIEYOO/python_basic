{
 "cells": [
  {
   "cell_type": "code",
   "execution_count": 1,
   "metadata": {
    "collapsed": true
   },
   "outputs": [],
   "source": [
    "board = []\n",
    "for i in range(5):\n",
    "    board.append(['o']*5)"
   ]
  },
  {
   "cell_type": "code",
   "execution_count": 2,
   "metadata": {
    "collapsed": false
   },
   "outputs": [
    {
     "name": "stdout",
     "output_type": "stream",
     "text": [
      "[['o', 'o', 'o', 'o', 'o'], ['o', 'o', 'o', 'o', 'o'], ['o', 'o', 'o', 'o', 'o'], ['o', 'o', 'o', 'o', 'o'], ['o', 'o', 'o', 'o', 'o']]\n"
     ]
    }
   ],
   "source": [
    "print board"
   ]
  },
  {
   "cell_type": "code",
   "execution_count": 3,
   "metadata": {
    "collapsed": false
   },
   "outputs": [
    {
     "name": "stdout",
     "output_type": "stream",
     "text": [
      "[['o', 'o', 'o', 'o', 'o']]\n",
      "[['o', 'o', 'o', 'o', 'o'], ['o', 'o', 'o', 'o', 'o']]\n",
      "[['o', 'o', 'o', 'o', 'o'], ['o', 'o', 'o', 'o', 'o'], ['o', 'o', 'o', 'o', 'o']]\n",
      "[['o', 'o', 'o', 'o', 'o'], ['o', 'o', 'o', 'o', 'o'], ['o', 'o', 'o', 'o', 'o'], ['o', 'o', 'o', 'o', 'o']]\n",
      "[['o', 'o', 'o', 'o', 'o'], ['o', 'o', 'o', 'o', 'o'], ['o', 'o', 'o', 'o', 'o'], ['o', 'o', 'o', 'o', 'o'], ['o', 'o', 'o', 'o', 'o']]\n"
     ]
    }
   ],
   "source": [
    "board = []\n",
    "for i in range(5):\n",
    "    board.append(['o']*5)\n",
    "    print board"
   ]
  },
  {
   "cell_type": "code",
   "execution_count": 1,
   "metadata": {
    "collapsed": false
   },
   "outputs": [
    {
     "name": "stdout",
     "output_type": "stream",
     "text": [
      "[['O', 'O', 'O', 'O', 'O'], ['O', 'O', 'O', 'O', 'O'], ['O', 'O', 'O', 'O', 'O'], ['O', 'O', 'O', 'O', 'O'], ['O', 'O', 'O', 'O', 'O']]\n",
      "['O', 'O', 'O', 'O', 'O']\n",
      "['O', 'O', 'O', 'O', 'O']\n",
      "['O', 'O', 'O', 'O', 'O']\n",
      "['O', 'O', 'O', 'O', 'O']\n",
      "['O', 'O', 'O', 'O', 'O']\n",
      "None\n"
     ]
    }
   ],
   "source": [
    "board = []\n",
    "for i in range(5):\n",
    "  board.append(['O'] * 5)\n",
    "print board\n",
    "  \n",
    "def print_board(board_in):\n",
    "  for x in board_in:\n",
    "    print x\n",
    "    \n",
    "print print_board(board)\n",
    "  "
   ]
  },
  {
   "cell_type": "code",
   "execution_count": 2,
   "metadata": {
    "collapsed": false
   },
   "outputs": [
    {
     "name": "stdout",
     "output_type": "stream",
     "text": [
      "[['0', '0', '0', '0', '0'], ['0', '0', '0', '0', '0'], ['0', '0', '0', '0', '0'], ['0', '0', '0', '0', '0'], ['0', '0', '0', '0', '0']]\n",
      "0 0 0 0 0\n",
      "0 0 0 0 0\n",
      "0 0 0 0 0\n",
      "0 0 0 0 0\n",
      "0 0 0 0 0\n",
      "None\n"
     ]
    }
   ],
   "source": [
    "board = []\n",
    "for i in range(5):\n",
    "    board.append(['0']*5)\n",
    "print board\n",
    "\n",
    "def print_board(board_in):\n",
    "    for x in board_in:\n",
    "        print \" \".join(x)\n",
    "        \n",
    "print print_board(board)"
   ]
  },
  {
   "cell_type": "code",
   "execution_count": 6,
   "metadata": {
    "collapsed": false
   },
   "outputs": [],
   "source": [
    "from random import randint \n",
    "\n",
    "board = []\n",
    "\n",
    "for x in range(0, 5):\n",
    "  board.append([\"O\"] * 5)\n",
    "\n",
    "def print_board(board):\n",
    "  for row in board:\n",
    "    print \" \".join(row)\n",
    "   \n",
    "# Add your code below!\n",
    "\n",
    "def random_row(board_in):\n",
    "  row = randint(0, len(board_in)-1)\n",
    "  return row\n",
    "  \n",
    "def random_col(board_in):\n",
    "  column = randint(0, len(board_in)-1)\n",
    "  return column"
   ]
  },
  {
   "cell_type": "code",
   "execution_count": 5,
   "metadata": {
    "collapsed": false
   },
   "outputs": [
    {
     "name": "stdout",
     "output_type": "stream",
     "text": [
      "a b c d\n",
      "a---b---c---d\n"
     ]
    }
   ],
   "source": [
    "letters = ['a', 'b', 'c', 'd']\n",
    "print \" \".join(letters)\n",
    "print \"---\".join(letters)\n",
    "  "
   ]
  },
  {
   "cell_type": "code",
   "execution_count": 9,
   "metadata": {
    "collapsed": true
   },
   "outputs": [],
   "source": [
    "#guessing where is the ship game\n",
    "# +range get input of index"
   ]
  },
  {
   "cell_type": "code",
   "execution_count": 13,
   "metadata": {
    "collapsed": true
   },
   "outputs": [],
   "source": [
    "from random import randint\n"
   ]
  },
  {
   "cell_type": "code",
   "execution_count": null,
   "metadata": {
    "collapsed": false
   },
   "outputs": [],
   "source": [
    "from random import randint\n",
    "\n",
    "#빈배열 생성\n",
    "board = []\n",
    "\n",
    "\n",
    "#5*5 배열 생성\n",
    "for x in range(0,5):\n",
    "  board.append([\"0\"]*5)\n",
    "\n",
    "#delete []\n",
    "def print_board(board):\n",
    "    for row in board:\n",
    "        print\" \".join(row)\n",
    "        \n",
    "print_board(board)\n",
    "\n",
    "\n",
    "#랜덤 좌표생성 \n",
    "def random_row(board):\n",
    "    return randint(0, len(board) - 1)\n",
    "    #인덱스수치가  range 안에 들어가므로 1빼주고\n",
    "#random number of col\n",
    "def random_col(board):\n",
    "    return randint(0, len(board[0])- 1)\n",
    "# subtract 1 because randint got index figure\n",
    "\n",
    "#좌표배정\n",
    "ship_row = random_row(board)\n",
    "ship_col = random_col(board)\n",
    "                   \n",
    "                   \n",
    "print ship_row\n",
    "print ship_col\n",
    "\n",
    "#게임 5번\n",
    "for turn in range(4):\n",
    "    #턴을 카운트\n",
    "    print \"Turn\", turn + 1\n",
    "    #입력값을 받아서\n",
    "    guess_row = int(raw_input(\"Guess row: \"))\n",
    "    guess_col = int(raw_input(\"Guess col: \"))\n",
    "    \n",
    "    #추측이 맞거나 틀리거나\n",
    "    \n",
    "    if guess_row == ship_row and guess_col == ship_col:\n",
    "        print \"Congratulations! You sank my battleship\"\n",
    "        #지루하지 않게 맞추면 break\n",
    "        break\n",
    "        \n",
    "    else:\n",
    "        #범위밖으로 틀림\n",
    "        if guess_row not in range(5) or \\\n",
    "           guess_col not in range(5):\n",
    "                print \"It's not in the ocean\"\n",
    "        \n",
    "        #이미 x된데를 또 선택하였다.\n",
    "        elif board[guess_row][guess_col] == \"X\":\n",
    "            print(\"You guessed that one already\")\n",
    "        \n",
    "        #답틀리면 x로 설정해줌.\n",
    "        else:\n",
    "            print \"You missed my battleship!\"\n",
    "            board[guess_row][guess_col] = \"X\"\n",
    "        if turn == 3:\n",
    "            print \"Game Over\"\n",
    "        print_board(board)\n",
    "            \n",
    "    \n",
    "    \n",
    "    \n"
   ]
  },
  {
   "cell_type": "code",
   "execution_count": null,
   "metadata": {
    "collapsed": true
   },
   "outputs": [],
   "source": []
  }
 ],
 "metadata": {
  "anaconda-cloud": {},
  "kernelspec": {
   "display_name": "Python [conda env:python27]",
   "language": "python",
   "name": "conda-env-python27-py"
  },
  "language_info": {
   "codemirror_mode": {
    "name": "ipython",
    "version": 2
   },
   "file_extension": ".py",
   "mimetype": "text/x-python",
   "name": "python",
   "nbconvert_exporter": "python",
   "pygments_lexer": "ipython2",
   "version": "2.7.14"
  }
 },
 "nbformat": 4,
 "nbformat_minor": 1
}
