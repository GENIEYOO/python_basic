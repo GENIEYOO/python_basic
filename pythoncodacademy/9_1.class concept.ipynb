{
 "cells": [
  {
   "cell_type": "code",
   "execution_count": 1,
   "metadata": {},
   "outputs": [
    {
     "name": "stdout",
     "output_type": "stream",
     "text": [
      "I'm a yellow lemon and I taste sour.\n",
      "Yep! I'm edible.\n"
     ]
    }
   ],
   "source": [
    "class Fruit(object):\n",
    "  \"\"\"A class that makes various tasty fruits.\"\"\"\n",
    "  def __init__(self, name, color, flavor, poisonous):\n",
    "    self.name = name\n",
    "    self.color = color\n",
    "    self.flavor = flavor\n",
    "    self.poisonous = poisonous\n",
    "\n",
    "  def description(self):\n",
    "    print \"I'm a %s %s and I taste %s.\" % (self.color, self.name, self.flavor)\n",
    "\n",
    "  def is_edible(self):\n",
    "    if not self.poisonous:\n",
    "      print \"Yep! I'm edible.\"\n",
    "    else:\n",
    "      print \"Don't eat me! I am super poisonous.\"\n",
    "\n",
    "lemon = Fruit(\"lemon\", \"yellow\", \"sour\", False)\n",
    "\n",
    "lemon.description()\n",
    "lemon.is_edible()"
   ]
  },
  {
   "cell_type": "code",
   "execution_count": 3,
   "metadata": {
    "collapsed": true
   },
   "outputs": [],
   "source": [
    "class Animal(object):\n",
    "  def __init__(self, name):\n",
    "    self.name = name\n",
    "#초기화 메소드 자바의 생성자와 비슷하다."
   ]
  },
  {
   "cell_type": "code",
   "execution_count": 4,
   "metadata": {},
   "outputs": [
    {
     "name": "stdout",
     "output_type": "stream",
     "text": [
      "Jeffery\n"
     ]
    }
   ],
   "source": [
    "zebra = Animal(\"Jeffery\")\n",
    "print zebra.name"
   ]
  },
  {
   "cell_type": "code",
   "execution_count": 5,
   "metadata": {
    "collapsed": true
   },
   "outputs": [],
   "source": [
    "#when you create an instance object of your Animal class, you need to give each instance a name and an age, and those will be associated with the particular instance you create.\n",
    "    "
   ]
  },
  {
   "cell_type": "code",
   "execution_count": 7,
   "metadata": {},
   "outputs": [
    {
     "name": "stdout",
     "output_type": "stream",
     "text": [
      " Jeffery 2 True\n",
      "Bruce 1 True\n",
      "Chad 7 True\n"
     ]
    }
   ],
   "source": [
    "class Animal(object):\n",
    "    \"\"\"makes cute animal\"\"\"\n",
    "    is_alive = True\n",
    "    def __init__ (self, name, age):\n",
    "        self.name = name\n",
    "        self.age = age\n",
    "\n",
    "zebra = Animal(\"Jeffery\", 2)\n",
    "giraffe = Animal(\"Bruce\", 1)\n",
    "panda = Animal(\"Chad\", 7)\n",
    "\n",
    "print zebra.name, zebra.age, zebra.is_alive\n",
    "print giraffe.name, giraffe.age, giraffe.is_alive\n",
    "print panda.name, panda.age, panda.is_alive\n",
    "\n",
    "\n",
    "\n",
    "\n"
   ]
  },
  {
   "cell_type": "code",
   "execution_count": 9,
   "metadata": {},
   "outputs": [
    {
     "name": "stdout",
     "output_type": "stream",
     "text": [
      "Anderson\n",
      "36\n"
     ]
    }
   ],
   "source": [
    "class Animal(object):\n",
    "    \"\"\"makes cute animals.\"\"\"\n",
    "    is_alive = True\n",
    "    def __init__(self, name, age):\n",
    "        self.name = name\n",
    "        self.age = age\n",
    "    def description(self):\n",
    "        print self.name\n",
    "        print self.age\n",
    "    \n",
    "hippo = Animal(\"Anderson\", 36)\n",
    "hippo.description() \n"
   ]
  },
  {
   "cell_type": "code",
   "execution_count": 10,
   "metadata": {},
   "outputs": [
    {
     "name": "stdout",
     "output_type": "stream",
     "text": [
      "Anderson\n",
      "36\n"
     ]
    }
   ],
   "source": [
    "class Animal(object):\n",
    "    \"\"\"makes cute animals\"\"\"\n",
    "    is_alive = True\n",
    "    def __init__(self, name, age):\n",
    "        self.name = name\n",
    "        self.age = age\n",
    "    def description (self):\n",
    "        print self.name\n",
    "        print self.age\n",
    "hippo = Animal(\"Anderson\", 36)\n",
    "hippo.description()"
   ]
  },
  {
   "cell_type": "code",
   "execution_count": 13,
   "metadata": {},
   "outputs": [
    {
     "name": "stdout",
     "output_type": "stream",
     "text": [
      "Anderson\n",
      "36\n",
      "good\n",
      "mimi\n",
      "22\n",
      "good\n",
      "kiki\n",
      "23\n",
      "good\n"
     ]
    }
   ],
   "source": [
    "class Animal(object):\n",
    "    \"\"\"makes cute animal\"\"\"\n",
    "    is_alive = True\n",
    "    health = \"good\"\n",
    "    def __init__(self, name, age):\n",
    "        self.name = name\n",
    "        self.age = age\n",
    "        \n",
    "    def description(self):\n",
    "        print self.name\n",
    "        print self.age\n",
    "        print self.health\n",
    "        \n",
    "\n",
    "hippo = Animal(\"Anderson\", 36)\n",
    "sloth = Animal(\"mimi\", 22)\n",
    "ocelot = Animal(\"kiki\", 23)\n",
    "\n",
    "hippo.description()\n",
    "sloth.description()\n",
    "ocelot.description()"
   ]
  },
  {
   "cell_type": "code",
   "execution_count": 16,
   "metadata": {},
   "outputs": [
    {
     "name": "stdout",
     "output_type": "stream",
     "text": [
      "apple added.\n"
     ]
    }
   ],
   "source": [
    "class ShoppingCart(object):\n",
    "  \"\"\"Creates shopping cart objects\n",
    "  for users of our fine website.\"\"\"\n",
    "  items_in_cart = {}\n",
    "  def __init__(self, customer_name):\n",
    "    self.customer_name = customer_name\n",
    "\n",
    "  def add_item(self, product, price):\n",
    "    \"\"\"Add product to the cart.\"\"\"\n",
    "    if not product in self.items_in_cart:\n",
    "      self.items_in_cart[product] = price\n",
    "      print product + \" added.\"\n",
    "    else:\n",
    "      print product + \" is already in the cart.\"\n",
    "\n",
    "  def remove_item(self, product):\n",
    "    \"\"\"Remove product from the cart.\"\"\"\n",
    "    if product in self.items_in_cart:\n",
    "      del self.items_in_cart[product]\n",
    "      print product + \" removed.\"\n",
    "    else:\n",
    "      print product + \" is not in the cart.\"\n",
    "\n",
    "\n",
    "my_cart = ShoppingCart(\"GIINY\")\n",
    "my_cart.add_item(\"apple\", 500)\n"
   ]
  },
  {
   "cell_type": "code",
   "execution_count": 17,
   "metadata": {},
   "outputs": [
    {
     "name": "stdout",
     "output_type": "stream",
     "text": [
      "I'm a string that stands in for the contents of your shopping cart\n",
      "I'm a string that stands in for your order history\n"
     ]
    }
   ],
   "source": [
    "#Inheritance :is - a relationship\n",
    "class Customer(object):\n",
    "    def __init__(self, customer_id):\n",
    "        self.customer_id = customer_id\n",
    "        \n",
    "    def display_cart(self):\n",
    "        print \"I'm a string that stands in for the contents of your shopping cart\"\n",
    "    \n",
    "class ReturningCustomer(Customer):\n",
    "    #inheriting customer\n",
    "    def display_order_history(self):\n",
    "        print \"I'm a string that stands in for your order history\"\n",
    "        \n",
    "monty_python = ReturningCustomer(\"ID:12345\")\n",
    "monty_python.display_cart()\n",
    "monty_python.display_order_history()"
   ]
  },
  {
   "cell_type": "code",
   "execution_count": 18,
   "metadata": {
    "collapsed": true
   },
   "outputs": [],
   "source": [
    "class Shape(object):\n",
    "  \"\"\"Makes shapes!\"\"\"\n",
    "  def __init__(self, number_of_sides):\n",
    "    self.number_of_sides = number_of_sides\n",
    "\n",
    "# Add your Triangle class below!\n",
    "\n",
    "class Triangle(Shape):\n",
    "  def __init__(self, side1, side2, side3):\n",
    "    self.side1 = side1\n",
    "    self.side2 = side2\n",
    "    self.side3 = side3\n",
    "    "
   ]
  },
  {
   "cell_type": "code",
   "execution_count": 19,
   "metadata": {
    "collapsed": true
   },
   "outputs": [],
   "source": [
    "#override"
   ]
  },
  {
   "cell_type": "code",
   "execution_count": 20,
   "metadata": {
    "collapsed": true
   },
   "outputs": [],
   "source": [
    "class Employee(object):\n",
    "  \"\"\"Models real-life employees!\"\"\"\n",
    "  def __init__(self, employee_name):\n",
    "    self.employee_name = employee_name\n",
    "\n",
    "  def calculate_wage(self, hours):\n",
    "    self.hours = hours\n",
    "    return hours * 20.00\n",
    "\n",
    "# Add your code below!\n",
    "class PartTimeEmployee(Employee):\n",
    "  def calculate_wage(self, hours):\n",
    "    self.hours = hours\n",
    "    return hours * 12.00"
   ]
  },
  {
   "cell_type": "code",
   "execution_count": 22,
   "metadata": {
    "collapsed": true
   },
   "outputs": [],
   "source": [
    "\n",
    "# superclass with Python's built-in super "
   ]
  },
  {
   "cell_type": "code",
   "execution_count": 23,
   "metadata": {
    "collapsed": true
   },
   "outputs": [],
   "source": [
    "# class Derived(Base):\n",
    "#   def m(self):\n",
    "#     return super(Derived, self).m()\n"
   ]
  },
  {
   "cell_type": "code",
   "execution_count": 25,
   "metadata": {},
   "outputs": [
    {
     "name": "stdout",
     "output_type": "stream",
     "text": [
      "200.0\n"
     ]
    }
   ],
   "source": [
    "class Employees(object):\n",
    "    def __init__(self, employee_name):\n",
    "        self.employee_name = employee_name\n",
    "    \n",
    "    def calculate_wage(self, hours):\n",
    "        self.hours = hours \n",
    "        return hours * 20.00\n",
    "\n",
    "class PartTimeEmployee(Employee):\n",
    "  def calculate_wage(self, hours):\n",
    "    self.hours = hours\n",
    "    return super(PartTimeEmployee, self).calculate_wage(hours)\n",
    "\n",
    "  def full_time_wage(self, hours):\n",
    "        return super(PartTimeEmployee, self).calculate_wage(hours)\n",
    "milton = PartTimeEmployee('Milton')\n",
    "print milton.full_time_wage(10)"
   ]
  },
  {
   "cell_type": "code",
   "execution_count": 27,
   "metadata": {},
   "outputs": [
    {
     "name": "stdout",
     "output_type": "stream",
     "text": [
      "3\n",
      "True\n"
     ]
    }
   ],
   "source": [
    "class Triangle(object):\n",
    "  number_of_sides = 3\n",
    "  def __init__(self, angle1, angle2, angle3):\n",
    "    self.angle1 = angle1\n",
    "    self.angle2 = angle2\n",
    "    self.angle3 = angle3\n",
    "    \n",
    "  def check_angles(self):\n",
    "    if (self.angle1 + self.angle2 + self.angle3) == 180:\n",
    "      return True\n",
    "    else:\n",
    "      return False\n",
    "my_triangle = Triangle(45, 45, 90)\n",
    "\n",
    "print my_triangle.number_of_sides\n",
    "print my_triangle.check_angles()"
   ]
  },
  {
   "cell_type": "code",
   "execution_count": 28,
   "metadata": {
    "collapsed": true
   },
   "outputs": [],
   "source": [
    "#삼각형인지 판단하고 정삼각형에 대입하는 클래스 알고리즘\n",
    "class Triangle(object):\n",
    "  number_of_sides = 3\n",
    "  def __init__(self, angle1, angle2, angle3):\n",
    "    self.angle1 = angle1\n",
    "    self.angle2 = angle2\n",
    "    self.angle3 = angle3\n",
    "    \n",
    "  def check_angles(self):\n",
    "    if (self.angle1 + self.angle2 + self.angle3) == 180:\n",
    "      return True\n",
    "    else:\n",
    "      return False\n",
    "    \n",
    "class Equilateral(Triangle):\n",
    "  angle = 60\n",
    "  def __init__(self):\n",
    "    self.angle1 = self.angle\n",
    "    self.angle2 = self.angle\n",
    "    self.angle3 = self.angle"
   ]
  },
  {
   "cell_type": "code",
   "execution_count": null,
   "metadata": {
    "collapsed": true
   },
   "outputs": [],
   "source": []
  }
 ],
 "metadata": {
  "kernelspec": {
   "display_name": "Python 2",
   "language": "python",
   "name": "python2"
  },
  "language_info": {
   "codemirror_mode": {
    "name": "ipython",
    "version": 2
   },
   "file_extension": ".py",
   "mimetype": "text/x-python",
   "name": "python",
   "nbconvert_exporter": "python",
   "pygments_lexer": "ipython2",
   "version": "2.7.14"
  }
 },
 "nbformat": 4,
 "nbformat_minor": 1
}
