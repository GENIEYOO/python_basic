{
 "cells": [
  {
   "cell_type": "code",
   "execution_count": 1,
   "metadata": {
    "collapsed": true
   },
   "outputs": [],
   "source": [
    "#raw input method"
   ]
  },
  {
   "cell_type": "code",
   "execution_count": 2,
   "metadata": {},
   "outputs": [
    {
     "name": "stdout",
     "output_type": "stream",
     "text": [
      "Enter a word:thankyou\n",
      "thankyou\n"
     ]
    }
   ],
   "source": [
    "pyg = 'ay'\n",
    "\n",
    "\n",
    "\n",
    "original = raw_input('Enter a word:')\n",
    "\n",
    "\n",
    "\n",
    "if len(original) > 0 and original.isalpha():\n",
    "\n",
    "  word = original.lower()\n",
    "\n",
    "  first = word[0]\n",
    "\n",
    "  print original\n",
    "\n",
    "  \n",
    "\n",
    "else:\n",
    "\n",
    "  print 'empty'"
   ]
  },
  {
   "cell_type": "code",
   "execution_count": 3,
   "metadata": {
    "collapsed": true
   },
   "outputs": [],
   "source": [
    "# why use function?\n",
    "# reuse a piece of code, just with a few different values. Instead of rewriting the whole code,"
   ]
  },
  {
   "cell_type": "code",
   "execution_count": 4,
   "metadata": {
    "collapsed": true
   },
   "outputs": [],
   "source": [
    "#function componets?"
   ]
  },
  {
   "cell_type": "code",
   "execution_count": 5,
   "metadata": {
    "collapsed": true
   },
   "outputs": [],
   "source": [
    "# Header : \n",
    "\n",
    "# Comment:\n",
    "\n",
    "# print:"
   ]
  },
  {
   "cell_type": "code",
   "execution_count": 6,
   "metadata": {
    "collapsed": true
   },
   "outputs": [],
   "source": [
    "def cube(number):\n",
    "\n",
    "  return number * number * number\n",
    "\n",
    "\n",
    "\n",
    "def by_three(number):\n",
    "\n",
    "  if number % 3 == 0:\n",
    "\n",
    "    return cube(number)\n",
    "    #you can use function in function\n",
    "\n",
    "  else:\n",
    "\n",
    "    return False"
   ]
  },
  {
   "cell_type": "code",
   "execution_count": 7,
   "metadata": {
    "collapsed": true
   },
   "outputs": [],
   "source": [
    "# what's module? File that contains definitions including variables and functions\n",
    "# that you can use once it is imported.\n",
    "\n"
   ]
  },
  {
   "cell_type": "code",
   "execution_count": 8,
   "metadata": {
    "collapsed": true
   },
   "outputs": [],
   "source": [
    "#ways of importing math module(specific way is better)"
   ]
  },
  {
   "cell_type": "code",
   "execution_count": 9,
   "metadata": {
    "collapsed": true
   },
   "outputs": [],
   "source": [
    "from math import sqrt"
   ]
  },
  {
   "cell_type": "code",
   "execution_count": 10,
   "metadata": {
    "collapsed": true
   },
   "outputs": [],
   "source": [
    "from math import *"
   ]
  },
  {
   "cell_type": "code",
   "execution_count": 12,
   "metadata": {
    "collapsed": true
   },
   "outputs": [],
   "source": [
    "#example of math module"
   ]
  },
  {
   "cell_type": "code",
   "execution_count": 13,
   "metadata": {},
   "outputs": [
    {
     "name": "stdout",
     "output_type": "stream",
     "text": [
      "7\n"
     ]
    }
   ],
   "source": [
    "maximum = max(4,2,7)\n",
    "\n",
    "\n",
    "\n",
    "print maximum"
   ]
  },
  {
   "cell_type": "code",
   "execution_count": 14,
   "metadata": {},
   "outputs": [
    {
     "name": "stdout",
     "output_type": "stream",
     "text": [
      "2\n"
     ]
    }
   ],
   "source": [
    "minimum = min(4, 2, 7)\n",
    "\n",
    "print minimum"
   ]
  },
  {
   "cell_type": "code",
   "execution_count": 16,
   "metadata": {},
   "outputs": [
    {
     "name": "stdout",
     "output_type": "stream",
     "text": [
      "42\n"
     ]
    }
   ],
   "source": [
    "absolute = abs(-42)\n",
    "\n",
    "print absolute"
   ]
  },
  {
   "cell_type": "code",
   "execution_count": 17,
   "metadata": {},
   "outputs": [
    {
     "name": "stdout",
     "output_type": "stream",
     "text": [
      "<type 'float'>\n"
     ]
    }
   ],
   "source": [
    "print type(34.5)"
   ]
  },
  {
   "cell_type": "code",
   "execution_count": 18,
   "metadata": {
    "collapsed": true
   },
   "outputs": [],
   "source": [
    "def distance_from_zero(num):\n",
    "\n",
    "  if type(num) == int or type(num) == float:\n",
    "\n",
    "    return abs(num)\n",
    "\n",
    "  else:\n",
    "\n",
    "    return \"Nope\""
   ]
  },
  {
   "cell_type": "code",
   "execution_count": 19,
   "metadata": {
    "collapsed": true
   },
   "outputs": [],
   "source": [
    "#trip cost calculating practice"
   ]
  },
  {
   "cell_type": "code",
   "execution_count": 20,
   "metadata": {
    "collapsed": true
   },
   "outputs": [],
   "source": [
    "def rental_car_cost(days):\n",
    "\n",
    "  rental = 40*days\n",
    "\n",
    "  if days>=7:\n",
    "\n",
    "    rental -= 50\n",
    "\n",
    "  elif days>=3:\n",
    "\n",
    "    rental -= 20 \n",
    "\n",
    "  return rental\n",
    "\n",
    "\n",
    "\n",
    "\n",
    "\n",
    "\n",
    "\n",
    "def hotel_cost(nights):\n",
    "\n",
    "  return 140 * nights\n",
    "\n",
    "\n",
    "\n",
    "def plane_ride_cost(city):\n",
    "\n",
    "  if city == \"Charlotte\":\n",
    "\n",
    "    return 183\n",
    "\n",
    "  elif city == \"Tampa\":\n",
    "\n",
    "    return 220\n",
    "\n",
    "  elif city == \"Pittsburgh\":\n",
    "\n",
    "    return 222\n",
    "\n",
    "  elif city == \"Los Angeles\":\n",
    "\n",
    "    return 475\n",
    "\n",
    "\n",
    "\n",
    "def rental_car_cost(days):\n",
    "\n",
    "  cost = days * 40\n",
    "\n",
    "  if days >= 7:\n",
    "\n",
    "    cost -= 50\n",
    "\n",
    "  elif days >= 3:\n",
    "\n",
    "    cost -= 20\n",
    "\n",
    "  return cost\n",
    "\n",
    "\n",
    "\n",
    "def trip_cost(city, days):\n",
    "\n",
    "  return rental_car_cost(days) + hotel_cost(days) + plane_ride_cost(city)"
   ]
  },
  {
   "cell_type": "code",
   "execution_count": 21,
   "metadata": {},
   "outputs": [
    {
     "name": "stdout",
     "output_type": "stream",
     "text": [
      "1955\n"
     ]
    }
   ],
   "source": [
    "\n",
    "def hotel_cost(nights):\n",
    "\n",
    "  return 140 * nights\n",
    "\n",
    "\n",
    "\n",
    "def plane_ride_cost(city):\n",
    "\n",
    "  if city == \"Charlotte\":\n",
    "\n",
    "    return 183\n",
    "\n",
    "  elif city == \"Tampa\":\n",
    "\n",
    "    return 220\n",
    "\n",
    "  elif city == \"Pittsburgh\":\n",
    "\n",
    "    return 222\n",
    "\n",
    "  elif city == \"Los Angeles\":\n",
    "\n",
    "    return 475\n",
    "\n",
    "\n",
    "\n",
    "def rental_car_cost(days):\n",
    "\n",
    "  cost = days * 40\n",
    "\n",
    "  if days >= 7:\n",
    "\n",
    "    cost -= 50\n",
    "\n",
    "  elif days >= 3:\n",
    "\n",
    "    cost -= 20\n",
    "\n",
    "  return cost\n",
    "\n",
    "\n",
    "\n",
    "def additional_cost(spending_money):\n",
    "\n",
    "  return spending_money\n",
    "\n",
    "\n",
    "\n",
    "def trip_cost(city, days, spending_money):\n",
    "\n",
    "  return rental_car_cost(days) + hotel_cost(days) + plane_ride_cost(city) + additional_cost(spending_money)\n",
    "\n",
    "\n",
    "\n",
    "print trip_cost(\"Los Angeles\", 5, 600)"
   ]
  },
  {
   "cell_type": "code",
   "execution_count": 22,
   "metadata": {
    "collapsed": true
   },
   "outputs": [],
   "source": [
    "#Array?"
   ]
  },
  {
   "cell_type": "code",
   "execution_count": 23,
   "metadata": {
    "collapsed": true
   },
   "outputs": [],
   "source": [
    "animals = [\"aardvark\", \"badger\", \"duck\", \"emu\", \"fennec fox\"]\n",
    "\n",
    "duck_index = animals.index(\"duck\") # Use index() to find \"duck\"\n",
    "\n",
    "\n",
    "\n",
    "# Your code here!\n",
    "\n",
    "animals.insert(duck_index, \"cobra\")\n",
    "\n"
   ]
  },
  {
   "cell_type": "code",
   "execution_count": 24,
   "metadata": {
    "collapsed": true
   },
   "outputs": [],
   "source": [
    "#to use array you should know index and for "
   ]
  },
  {
   "cell_type": "code",
   "execution_count": 25,
   "metadata": {
    "collapsed": true
   },
   "outputs": [],
   "source": [
    "#list and for phrase"
   ]
  },
  {
   "cell_type": "code",
   "execution_count": 26,
   "metadata": {
    "collapsed": true
   },
   "outputs": [],
   "source": [
    "start_list = [5, 3, 1, 2, 4]\n",
    "\n",
    "square_list = []\n",
    "\n",
    "\n",
    "\n",
    "# Your code here!\n",
    "\n",
    "for number in start_list:\n",
    "\n",
    "  square_list.append(number ** 2)\n",
    "\n",
    "square_list.sort()"
   ]
  },
  {
   "cell_type": "code",
   "execution_count": 27,
   "metadata": {},
   "outputs": [
    {
     "name": "stdout",
     "output_type": "stream",
     "text": [
      "[1, 4, 9, 16, 25]\n"
     ]
    }
   ],
   "source": [
    "print square_list"
   ]
  },
  {
   "cell_type": "code",
   "execution_count": 30,
   "metadata": {
    "collapsed": true
   },
   "outputs": [],
   "source": [
    "#dictionary remember key, value!!!!!!"
   ]
  },
  {
   "cell_type": "code",
   "execution_count": 31,
   "metadata": {},
   "outputs": [
    {
     "name": "stdout",
     "output_type": "stream",
     "text": [
      "14.5\n"
     ]
    }
   ],
   "source": [
    "menu = {} # Empty dictionary\n",
    "\n",
    "menu['Chicken Alfredo'] = 14.50 # Adding new key-value pair\n",
    "\n",
    "menu['Spam'] = 2.50\n",
    "\n",
    "menu['Garlic'] = 3.50\n",
    "\n",
    "menu['spaghetti'] = 4\n",
    "\n",
    "print menu['Chicken Alfredo']"
   ]
  },
  {
   "cell_type": "code",
   "execution_count": 32,
   "metadata": {},
   "outputs": [
    {
     "name": "stdout",
     "output_type": "stream",
     "text": [
      "There are 4 items on the menu.\n",
      "{'Chicken Alfredo': 14.5, 'spaghetti': 4, 'Garlic': 3.5, 'Spam': 2.5}\n"
     ]
    }
   ],
   "source": [
    "print \"There are \" + str(len(menu)) + \" items on the menu.\"\n",
    " # you can calculate length of items in dic\n",
    "print menu\n",
    "\n",
    "\n",
    "\n"
   ]
  },
  {
   "cell_type": "code",
   "execution_count": null,
   "metadata": {
    "collapsed": true
   },
   "outputs": [],
   "source": []
  }
 ],
 "metadata": {
  "kernelspec": {
   "display_name": "Python 2",
   "language": "python",
   "name": "python2"
  },
  "language_info": {
   "codemirror_mode": {
    "name": "ipython",
    "version": 2
   },
   "file_extension": ".py",
   "mimetype": "text/x-python",
   "name": "python",
   "nbconvert_exporter": "python",
   "pygments_lexer": "ipython2",
   "version": "2.7.14"
  }
 },
 "nbformat": 4,
 "nbformat_minor": 1
}
