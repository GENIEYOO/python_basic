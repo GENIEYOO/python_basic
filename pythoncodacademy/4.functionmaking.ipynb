{
 "cells": [
  {
   "cell_type": "code",
   "execution_count": 2,
   "metadata": {
    "collapsed": false
   },
   "outputs": [
    {
     "name": "stdout",
     "output_type": "stream",
     "text": [
      "Mr.Fluffles\n"
     ]
    }
   ],
   "source": [
    "animal = {\n",
    "    \"name\": \"Mr.Fluffles\",\n",
    "    \"sounds\": [\"meow\", \"purr\"]\n",
    "}\n",
    "print animal[\"name\"]"
   ]
  },
  {
   "cell_type": "code",
   "execution_count": 3,
   "metadata": {
    "collapsed": false
   },
   "outputs": [
    {
     "name": "stdout",
     "output_type": "stream",
     "text": [
      "Lloyd\n",
      "[]\n",
      "[]\n",
      "[]\n",
      "Alice\n",
      "[100.0, 92.0, 98.0, 100.0]\n",
      "[82.0, 83.0, 91.0]\n",
      "[89.0, 97.0]\n",
      "Tyler\n",
      "[0.0, 87.0, 75.0, 22.0]\n",
      "[0.0, 75.0, 78.0]\n",
      "[100.0, 100.0]\n"
     ]
    }
   ],
   "source": [
    "lloyd = {\n",
    "  \"name\": \"Lloyd\",\n",
    "  \"homework\": [],\n",
    "  \"quizzes\": [],\n",
    "  \"tests\": []\n",
    "}\n",
    "alice = {\n",
    "  \"name\": \"Alice\",\n",
    "  \"homework\": [100.0, 92.0, 98.0, 100.0],\n",
    "  \"quizzes\": [82.0, 83.0, 91.0],\n",
    "  \"tests\": [89.0, 97.0]\n",
    "}\n",
    "tyler = {\n",
    "  \"name\": \"Tyler\",\n",
    "  \"homework\": [0.0, 87.0, 75.0, 22.0],\n",
    "  \"quizzes\": [0.0, 75.0, 78.0],\n",
    "  \"tests\": [100.0, 100.0]\n",
    "}\n",
    "\n",
    "students = [lloyd, alice, tyler]\n",
    "for student in students:\n",
    "  print student[\"name\"]\n",
    "  print student[\"homework\"]\n",
    "  print student[\"quizzes\"]\n",
    "  print student[\"tests\"]"
   ]
  },
  {
   "cell_type": "code",
   "execution_count": 4,
   "metadata": {
    "collapsed": true
   },
   "outputs": [],
   "source": [
    "lloyd = {\n",
    "  \"name\": \"Lloyd\",\n",
    "  \"homework\": [90.0, 97.0, 75.0, 92.0],\n",
    "  \"quizzes\": [88.0, 40.0, 94.0],\n",
    "  \"tests\": [75.0, 90.0]\n",
    "}\n",
    "alice = {\n",
    "  \"name\": \"Alice\",\n",
    "  \"homework\": [100.0, 92.0, 98.0, 100.0],\n",
    "  \"quizzes\": [82.0, 83.0, 91.0],\n",
    "  \"tests\": [89.0, 97.0]\n",
    "}\n",
    "tyler = {\n",
    "  \"name\": \"Tyler\",\n",
    "  \"homework\": [0.0, 87.0, 75.0, 22.0],\n",
    "  \"quizzes\": [0.0, 75.0, 78.0],\n",
    "  \"tests\": [100.0, 100.0]\n",
    "}\n",
    "\n",
    "# Add your function below!\n",
    "def average(numbers):\n",
    "  total = sum(numbers)\n",
    "  total = float(total)\n",
    "  return total / len(numbers)"
   ]
  },
  {
   "cell_type": "code",
   "execution_count": 5,
   "metadata": {
    "collapsed": false
   },
   "outputs": [
    {
     "data": {
      "text/plain": [
       "46.0"
      ]
     },
     "execution_count": 5,
     "metadata": {},
     "output_type": "execute_result"
    }
   ],
   "source": [
    "average(tyler[\"homework\"])"
   ]
  },
  {
   "cell_type": "code",
   "execution_count": 8,
   "metadata": {
    "collapsed": true
   },
   "outputs": [],
   "source": [
    "lloyd = {\n",
    "  \"name\": \"Lloyd\",\n",
    "  \"homework\": [90.0, 97.0, 75.0, 92.0],\n",
    "  \"quizzes\": [88.0, 40.0, 94.0],\n",
    "  \"tests\": [75.0, 90.0]\n",
    "}\n",
    "alice = {\n",
    "  \"name\": \"Alice\",\n",
    "  \"homework\": [100.0, 92.0, 98.0, 100.0],\n",
    "  \"quizzes\": [82.0, 83.0, 91.0],\n",
    "  \"tests\": [89.0, 97.0]\n",
    "}\n",
    "tyler = {\n",
    "  \"name\": \"Tyler\",\n",
    "  \"homework\": [0.0, 87.0, 75.0, 22.0],\n",
    "  \"quizzes\": [0.0, 75.0, 78.0],\n",
    "  \"tests\": [100.0, 100.0]\n",
    "}\n",
    "\n",
    "\n",
    "def average(numbers):\n",
    "    total = sum(numbers)\n",
    "    total = float(total)\n",
    "    return totla/len(numbers)\n",
    "\n",
    "def get_average(student):\n",
    "    homework = average(student[\"homework\"])\n",
    "    quizzes = average(student[\"quizzes\"])\n",
    "    tests = average(student[\"tests\"])\n",
    "    \n",
    "    total = homework * .1 + quizzes * .3 + tests * 6\n",
    "    return total\n",
    "\n",
    "def class_average(class_list):\n",
    "    results = []\n",
    "    for student in class_list:\n",
    "        student_avg = get_average(student)\n",
    "        results.append(student_avg)\n",
    "    return average(results)\n",
    "\n"
   ]
  },
  {
   "cell_type": "code",
   "execution_count": 9,
   "metadata": {
    "collapsed": true
   },
   "outputs": [],
   "source": [
    "lloyd = {\n",
    "  \"name\": \"Lloyd\",\n",
    "  \"homework\": [90.0, 97.0, 75.0, 92.0],\n",
    "  \"quizzes\": [88.0, 40.0, 94.0],\n",
    "  \"tests\": [75.0, 90.0]\n",
    "}\n",
    "alice = {\n",
    "  \"name\": \"Alice\",\n",
    "  \"homework\": [100.0, 92.0, 98.0, 100.0],\n",
    "  \"quizzes\": [82.0, 83.0, 91.0],\n",
    "  \"tests\": [89.0, 97.0]\n",
    "}\n",
    "tyler = {\n",
    "  \"name\": \"Tyler\",\n",
    "  \"homework\": [0.0, 87.0, 75.0, 22.0],\n",
    "  \"quizzes\": [0.0, 75.0, 78.0],\n",
    "  \"tests\": [100.0, 100.0]\n",
    "}\n"
   ]
  },
  {
   "cell_type": "code",
   "execution_count": 12,
   "metadata": {
    "collapsed": false
   },
   "outputs": [
    {
     "name": "stdout",
     "output_type": "stream",
     "text": [
      "80.55\n",
      "B\n"
     ]
    }
   ],
   "source": [
    "def average(numbers):\n",
    "    total = sum(numbers)\n",
    "    total = float(total)\n",
    "    return total/len(numbers)\n",
    "\n",
    "def get_average(student):\n",
    "    homework = average(student[\"homework\"])\n",
    "    quizzes = average(student[\"quizzes\"])\n",
    "    tests = average(student[\"tests\"])\n",
    "    return 0.1*homework + 0.3 * quizzes + 0.6* tests\n",
    "\n",
    "def get_letter_grade(score):\n",
    "    if score >=90:\n",
    "        return \"A\"\n",
    "    elif score >= 80:\n",
    "        return \"B\"\n",
    "    elif score >=70:\n",
    "        return \"C\"\n",
    "    elif scroe >=60:\n",
    "        return \"D\"\n",
    "    else:\n",
    "        return \"F\"\n",
    "\n",
    "def get_class_average(class_list):\n",
    "    results=[]\n",
    "    for student in class_list:\n",
    "        student_avg = get_average(student)\n",
    "        results.append(student_avg)\n",
    "        return average(results)\n",
    "        \n",
    "students = [lloyd, alice, tyler]\n",
    "class_avg = get_class_average(students)\n",
    "print class_avg\n",
    "print get_letter_grade(class_avg)\n",
    "        \n",
    "        \n",
    "        \n",
    "        "
   ]
  },
  {
   "cell_type": "code",
   "execution_count": null,
   "metadata": {
    "collapsed": true
   },
   "outputs": [],
   "source": []
  }
 ],
 "metadata": {
  "anaconda-cloud": {},
  "kernelspec": {
   "display_name": "Python [conda env:python27]",
   "language": "python",
   "name": "conda-env-python27-py"
  },
  "language_info": {
   "codemirror_mode": {
    "name": "ipython",
    "version": 2
   },
   "file_extension": ".py",
   "mimetype": "text/x-python",
   "name": "python",
   "nbconvert_exporter": "python",
   "pygments_lexer": "ipython2",
   "version": "2.7.14"
  }
 },
 "nbformat": 4,
 "nbformat_minor": 1
}
