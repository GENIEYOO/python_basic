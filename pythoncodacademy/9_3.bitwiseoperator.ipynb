{
 "cells": [
  {
   "cell_type": "code",
   "execution_count": 1,
   "metadata": {
    "collapsed": true
   },
   "outputs": [],
   "source": [
    "#Bitwise operations are operations that directly manipulate bits"
   ]
  },
  {
   "cell_type": "code",
   "execution_count": 2,
   "metadata": {
    "collapsed": false
   },
   "outputs": [
    {
     "name": "stdout",
     "output_type": "stream",
     "text": [
      "0\n",
      "10\n",
      "0\n",
      "13\n",
      "38\n",
      "-89\n"
     ]
    }
   ],
   "source": [
    "print 5 >> 4  # Right Shift\n",
    "print 5 << 1  # Left Shift\n",
    "print 8 & 5   # Bitwise AND\n",
    "print 9 | 4   # Bitwise OR\n",
    "print 12 ^ 42 # Bitwise XOR\n",
    "print ~88     # Bitwise NOT\n"
   ]
  },
  {
   "cell_type": "code",
   "execution_count": 3,
   "metadata": {
    "collapsed": false
   },
   "outputs": [
    {
     "name": "stdout",
     "output_type": "stream",
     "text": [
      "1 2 3 4 5 6 7\n",
      "******\n",
      "4\n",
      "9\n"
     ]
    }
   ],
   "source": [
    "print 0b1,    #1\n",
    "print 0b10,   #2\n",
    "print 0b11,   #3\n",
    "print 0b100,  #4\n",
    "print 0b101,  #5\n",
    "print 0b110,  #6\n",
    "print 0b111   #7\n",
    "print \"******\"\n",
    "print 0b1 + 0b11\n",
    "print 0b11 * 0b11"
   ]
  },
  {
   "cell_type": "code",
   "execution_count": 4,
   "metadata": {
    "collapsed": true
   },
   "outputs": [],
   "source": [
    "#decimal to binary\n",
    "one = 0b1\n",
    "two = 0b10\n",
    "three = 0b11\n",
    "four = 0b100\n",
    "five = 0b101\n",
    "six  = 0b110\n",
    "seven = 0b111\n",
    "eight = 0b1000\n",
    "nine  = 0b1001\n",
    "ten = 0b1010\n",
    "eleven = 0b1011\n",
    "twelve = 0b1100"
   ]
  },
  {
   "cell_type": "code",
   "execution_count": 5,
   "metadata": {
    "collapsed": false
   },
   "outputs": [
    {
     "name": "stdout",
     "output_type": "stream",
     "text": [
      "0b1\n",
      "0b10\n",
      "0b11\n",
      "0b100\n",
      "0b101\n"
     ]
    }
   ],
   "source": [
    "print bin(1)\n",
    "print bin(2)\n",
    "print bin(3)\n",
    "print bin(4)\n",
    "print bin(5)\n",
    "# bin method change decimal to binary"
   ]
  },
  {
   "cell_type": "code",
   "execution_count": 6,
   "metadata": {
    "collapsed": true
   },
   "outputs": [],
   "source": [
    "#int second parameter : return the value of that number converted to base ten."
   ]
  },
  {
   "cell_type": "code",
   "execution_count": 7,
   "metadata": {
    "collapsed": false
   },
   "outputs": [
    {
     "name": "stdout",
     "output_type": "stream",
     "text": [
      "1\n",
      "2\n",
      "7\n",
      "4\n",
      "5\n",
      "201\n"
     ]
    }
   ],
   "source": [
    "print int(\"1\",2)\n",
    "print int(\"10\",2)\n",
    "print int(\"111\",2)\n",
    "print int(\"0b100\",2)\n",
    "print int(bin(5),2)\n",
    "# Print out the decimal equivalent of the binary 11001001.\n",
    "print int(\"11001001\",2)"
   ]
  },
  {
   "cell_type": "code",
   "execution_count": 9,
   "metadata": {
    "collapsed": true
   },
   "outputs": [],
   "source": [
    "#shifting adding '0' behind the original number << \n",
    "#subtracting '0' behind the original number >>"
   ]
  },
  {
   "cell_type": "code",
   "execution_count": 10,
   "metadata": {
    "collapsed": false
   },
   "outputs": [
    {
     "name": "stdout",
     "output_type": "stream",
     "text": [
      "0b11\n",
      "0b100\n"
     ]
    }
   ],
   "source": [
    "shift_right = 0b1100\n",
    "shift_left = 0b1\n",
    "\n",
    "# Your code here!\n",
    "\n",
    "shift_right = shift_right >> 2  \n",
    "shift_left = shift_left << 2\n",
    "print bin(shift_right)\n",
    "print bin(shift_left)"
   ]
  },
  {
   "cell_type": "code",
   "execution_count": 11,
   "metadata": {
    "collapsed": false
   },
   "outputs": [
    {
     "name": "stdout",
     "output_type": "stream",
     "text": [
      "0b1111\n"
     ]
    }
   ],
   "source": [
    "#or : put 1 one of them is 1, else 0\n",
    "print bin(0b1110 | 0b101)"
   ]
  },
  {
   "cell_type": "code",
   "execution_count": 13,
   "metadata": {
    "collapsed": false
   },
   "outputs": [
    {
     "name": "stdout",
     "output_type": "stream",
     "text": [
      "0b1011\n"
     ]
    }
   ],
   "source": [
    "#xor(not or) : different : put 1 same : put 0 : \n",
    "print bin(0b1110 ^ 0b101)"
   ]
  },
  {
   "cell_type": "code",
   "execution_count": 14,
   "metadata": {
    "collapsed": true
   },
   "outputs": [],
   "source": [
    "# NOT operator (~) \n",
    "# this is equivalent to adding one to the number and then making it negative."
   ]
  },
  {
   "cell_type": "code",
   "execution_count": 15,
   "metadata": {
    "collapsed": false
   },
   "outputs": [
    {
     "name": "stdout",
     "output_type": "stream",
     "text": [
      "Bit was on\n"
     ]
    }
   ],
   "source": [
    "num  = 0b1100\n",
    "mask = 0b0100\n",
    "desired = num & mask\n",
    "if desired > 0:\n",
    "  print \"Bit was on\""
   ]
  },
  {
   "cell_type": "code",
   "execution_count": 16,
   "metadata": {
    "collapsed": true
   },
   "outputs": [],
   "source": [
    "#check fourth bit on\n",
    "def check_bit4(input):\n",
    "  mask = 0b01000\n",
    "  desired = input & mask\n",
    "  if desired > 0:\n",
    "    return \"on\"\n",
    "  else:\n",
    "    return \"off\""
   ]
  },
  {
   "cell_type": "code",
   "execution_count": 18,
   "metadata": {
    "collapsed": false
   },
   "outputs": [
    {
     "name": "stdout",
     "output_type": "stream",
     "text": [
      "0b10111111\n"
     ]
    }
   ],
   "source": [
    "a = 0b10111011\n",
    "mask = 0b100\n",
    "desired = a | mask\n",
    "print bin(desired)\n",
    "#result where the third bit from the right of a is turned on. "
   ]
  },
  {
   "cell_type": "code",
   "execution_count": 19,
   "metadata": {
    "collapsed": false
   },
   "outputs": [
    {
     "name": "stdout",
     "output_type": "stream",
     "text": [
      "0b10001\n"
     ]
    }
   ],
   "source": [
    "#flip mask\n",
    "a = 0b11101110\n",
    "mask = 0b11111111\n",
    "#all 1 + ^ making some bin number flipped\n",
    "desired = a^mask\n",
    "print bin(desired)"
   ]
  },
  {
   "cell_type": "code",
   "execution_count": 27,
   "metadata": {
    "collapsed": false,
    "scrolled": true
   },
   "outputs": [
    {
     "name": "stdout",
     "output_type": "stream",
     "text": [
      "1111111\n"
     ]
    }
   ],
   "source": [
    "n=7\n",
    "mask = \"1\"*n\n",
    "float(mask)\n",
    "print mask"
   ]
  },
  {
   "cell_type": "code",
   "execution_count": 28,
   "metadata": {
    "collapsed": true
   },
   "outputs": [],
   "source": [
    "#flipping nth number function\n",
    "\n",
    "def flip_bit(number, n):\n",
    "    bit_to_flip = 0b1 << (n-1)\n",
    "    ##using shift!!!! binary can not make str to float() \n",
    "    result = number ^ bit_to_flip\n",
    "    return bin(result)"
   ]
  },
  {
   "cell_type": "code",
   "execution_count": 31,
   "metadata": {
    "collapsed": false
   },
   "outputs": [
    {
     "data": {
      "text/plain": [
       "'0b101'"
      ]
     },
     "execution_count": 31,
     "metadata": {},
     "output_type": "execute_result"
    }
   ],
   "source": [
    "flip_bit(37, 6)"
   ]
  },
  {
   "cell_type": "code",
   "execution_count": 32,
   "metadata": {
    "collapsed": false
   },
   "outputs": [
    {
     "data": {
      "text/plain": [
       "'0b100101'"
      ]
     },
     "execution_count": 32,
     "metadata": {},
     "output_type": "execute_result"
    }
   ],
   "source": [
    "bin(37)"
   ]
  },
  {
   "cell_type": "code",
   "execution_count": null,
   "metadata": {
    "collapsed": true
   },
   "outputs": [],
   "source": []
  }
 ],
 "metadata": {
  "kernelspec": {
   "display_name": "Python [conda env:python27]",
   "language": "python",
   "name": "conda-env-python27-py"
  },
  "language_info": {
   "codemirror_mode": {
    "name": "ipython",
    "version": 2
   },
   "file_extension": ".py",
   "mimetype": "text/x-python",
   "name": "python",
   "nbconvert_exporter": "python",
   "pygments_lexer": "ipython2",
   "version": "2.7.14"
  }
 },
 "nbformat": 4,
 "nbformat_minor": 1
}
