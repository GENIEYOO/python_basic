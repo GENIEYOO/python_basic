{
 "cells": [
  {
   "cell_type": "code",
   "execution_count": 1,
   "metadata": {
    "collapsed": false
   },
   "outputs": [
    {
     "name": "stdout",
     "output_type": "stream",
     "text": [
      "2\n",
      "4\n",
      "6\n",
      "8\n",
      "10\n",
      "12\n",
      "14\n",
      "16\n",
      "18\n",
      "20\n"
     ]
    }
   ],
   "source": [
    "num = 1\n",
    "while num <=10:\n",
    "    print num * 2\n",
    "    \n",
    "    num += 1"
   ]
  },
  {
   "cell_type": "code",
   "execution_count": 1,
   "metadata": {
    "collapsed": false
   },
   "outputs": [
    {
     "name": "stdout",
     "output_type": "stream",
     "text": [
      "Enjoying the course(y/n)e\n",
      "Sorry. I didn't catch that. enter againn\n"
     ]
    }
   ],
   "source": [
    "choice = raw_input(\"Enjoying the course(y/n)\")\n",
    "\n",
    "while choice != 'y' and choice != 'n':\n",
    "    choice = raw_input(\"Sorry. I didn't catch that. enter again\")"
   ]
  },
  {
   "cell_type": "code",
   "execution_count": 2,
   "metadata": {
    "collapsed": true
   },
   "outputs": [],
   "source": [
    "count = 0\n",
    "while count <= 10:\n",
    "    count += 1"
   ]
  },
  {
   "cell_type": "code",
   "execution_count": 3,
   "metadata": {
    "collapsed": false
   },
   "outputs": [
    {
     "name": "stdout",
     "output_type": "stream",
     "text": [
      "0\n",
      "1\n",
      "2\n",
      "3\n",
      "4\n",
      "5\n",
      "6\n",
      "7\n",
      "8\n",
      "9\n"
     ]
    }
   ],
   "source": [
    "count = 0\n",
    "\n",
    "while True:\n",
    "    print count\n",
    "    count += 1\n",
    "    if count >= 10:\n",
    "        break"
   ]
  },
  {
   "cell_type": "code",
   "execution_count": 7,
   "metadata": {
    "collapsed": false
   },
   "outputs": [
    {
     "name": "stdout",
     "output_type": "stream",
     "text": [
      "Lucky Numbers 3 numbers will be generated\n",
      "If one of them is a '5', you lose!\n",
      "6\n",
      "3\n",
      "3\n",
      "You Win!\n"
     ]
    }
   ],
   "source": [
    "import random\n",
    "\n",
    "print \"Lucky Numbers 3 numbers will be generated\"\n",
    "print \"If one of them is a '5', you lose!\"\n",
    "\n",
    "count = 0\n",
    "while count < 3:\n",
    "    num = random.randint(1, 6)\n",
    "    print num\n",
    "    if num == 5:\n",
    "        print \"Sorry, you lose\"\n",
    "        break\n",
    "        \n",
    "    count +=1\n",
    "else:\n",
    "    print \"You Win!\"\n",
    "    "
   ]
  },
  {
   "cell_type": "code",
   "execution_count": 10,
   "metadata": {
    "collapsed": false
   },
   "outputs": [
    {
     "name": "stdout",
     "output_type": "stream",
     "text": [
      "Your guess: 2\n",
      "You win!\n"
     ]
    }
   ],
   "source": [
    "from random import randint\n",
    "\n",
    "# Generates a number from 1 through 10 inclusive\n",
    "random_number = randint(1, 10)\n",
    "\n",
    "guesses_left = 3\n",
    "# Start your game!\n",
    "while guesses_left > 0:\n",
    "  guess = int(raw_input(\"Your guess: \"))\n",
    "  if guess == random_number:\n",
    "    print \"You win!\"\n",
    "    break\n",
    "  guesses_left -= 1\n",
    "else:\n",
    "  print \"You lose.\"\n"
   ]
  },
  {
   "cell_type": "code",
   "execution_count": 11,
   "metadata": {
    "collapsed": false
   },
   "outputs": [
    {
     "name": "stdout",
     "output_type": "stream",
     "text": [
      "Tell me one of your favorite hobbies: e\n",
      "Tell me one of your favorite hobbies: e\n",
      "Tell me one of your favorite hobbies: e\n",
      "['e', 'e', 'e']\n"
     ]
    }
   ],
   "source": [
    "hobbies = []\n",
    "\n",
    "for num in range(3):\n",
    "    hobby = raw_input(\"Tell me one of your favorite hobbies: \")\n",
    "    hobbies.append(hobby)\n",
    "print hobbies"
   ]
  },
  {
   "cell_type": "code",
   "execution_count": 12,
   "metadata": {
    "collapsed": false
   },
   "outputs": [
    {
     "name": "stdout",
     "output_type": "stream",
     "text": [
      "X   b i r d   i n   t h e   h X n d . . .\n"
     ]
    }
   ],
   "source": [
    "phrase = \"A bird in the hand...\"\n",
    "\n",
    "# Add your for loop\n",
    "for char in phrase:\n",
    "  if char == \"A\" or char == 'a':\n",
    "    print 'X',\n",
    "  else:\n",
    "    print char,\n",
    "    #don't forget to put ,"
   ]
  },
  {
   "cell_type": "code",
   "execution_count": 13,
   "metadata": {
    "collapsed": false
   },
   "outputs": [
    {
     "name": "stdout",
     "output_type": "stream",
     "text": [
      "This list contains: \n",
      "7\n",
      "9\n",
      "12\n",
      "54\n",
      "99\n",
      "49\n",
      "81\n",
      "144\n",
      "2916\n",
      "9801\n"
     ]
    }
   ],
   "source": [
    "numbers  = [7, 9, 12, 54, 99]\n",
    "\n",
    "print \"This list contains: \"\n",
    "\n",
    "for num in numbers:\n",
    "  print num\n",
    "\n",
    "# Add your loop below!\n",
    "for num in numbers:\n",
    "  print num ** 2"
   ]
  },
  {
   "cell_type": "code",
   "execution_count": 14,
   "metadata": {
    "collapsed": true
   },
   "outputs": [],
   "source": [
    "d = {'a': 'apple', 'b': 'berry', 'c': 'cherry'}"
   ]
  },
  {
   "cell_type": "code",
   "execution_count": 15,
   "metadata": {
    "collapsed": false
   },
   "outputs": [
    {
     "name": "stdout",
     "output_type": "stream",
     "text": [
      "a apple\n",
      "c cherry\n",
      "b berry\n"
     ]
    }
   ],
   "source": [
    "for key in d:\n",
    "    print key, d[key]"
   ]
  },
  {
   "cell_type": "code",
   "execution_count": 17,
   "metadata": {
    "collapsed": false
   },
   "outputs": [
    {
     "name": "stdout",
     "output_type": "stream",
     "text": [
      "Your choices are:\n",
      "0 pizza\n",
      "1 paseta\n",
      "2 salad\n",
      "3 nachos\n"
     ]
    }
   ],
   "source": [
    "choices = ['pizza', 'paseta', 'salad', 'nachos']\n",
    "\n",
    "print \"Your choices are:\"\n",
    "for index, item in enumerate(choices):\n",
    "    print index, item"
   ]
  },
  {
   "cell_type": "code",
   "execution_count": 18,
   "metadata": {
    "collapsed": true
   },
   "outputs": [],
   "source": [
    "# enumerate works by supplying a corresponding index"
   ]
  },
  {
   "cell_type": "code",
   "execution_count": 19,
   "metadata": {
    "collapsed": false
   },
   "outputs": [
    {
     "name": "stdout",
     "output_type": "stream",
     "text": [
      "Your choices are:\n",
      "1 pizza\n",
      "2 pasta\n",
      "3 salad\n",
      "4 nachos\n"
     ]
    }
   ],
   "source": [
    "choices = ['pizza', 'pasta', 'salad', 'nachos']\n",
    "\n",
    "print 'Your choices are:'\n",
    "for index, item in enumerate(choices):\n",
    "  print index + 1, item"
   ]
  },
  {
   "cell_type": "code",
   "execution_count": 20,
   "metadata": {
    "collapsed": true
   },
   "outputs": [],
   "source": [
    "list_a = [3, 9, 17, 15, 19]\n",
    "list_b = [2, 4, 8, 10, 30, 40, 50, 60, 70, 80, 90]"
   ]
  },
  {
   "cell_type": "code",
   "execution_count": 21,
   "metadata": {
    "collapsed": false
   },
   "outputs": [
    {
     "name": "stdout",
     "output_type": "stream",
     "text": [
      "3\n",
      "9\n",
      "17\n",
      "15\n",
      "30\n"
     ]
    }
   ],
   "source": [
    "for a, b in zip(list_a, list_b):\n",
    "  # Add your code here!\n",
    "  print max(a, b)"
   ]
  },
  {
   "cell_type": "code",
   "execution_count": 22,
   "metadata": {
    "collapsed": true
   },
   "outputs": [],
   "source": [
    "#remeber max. min when you compare something!"
   ]
  },
  {
   "cell_type": "code",
   "execution_count": 23,
   "metadata": {
    "collapsed": true
   },
   "outputs": [],
   "source": [
    "#you can use else in the same indent with for phrase when you use break"
   ]
  },
  {
   "cell_type": "code",
   "execution_count": 24,
   "metadata": {
    "collapsed": false
   },
   "outputs": [
    {
     "name": "stdout",
     "output_type": "stream",
     "text": [
      "You have...\n",
      "A banana\n",
      "A apple\n",
      "A orange\n",
      "A tomato is not a fruit!\n",
      "A tomato\n",
      "A pear\n",
      "A grape\n",
      "A fine selection of fruits!\n"
     ]
    }
   ],
   "source": [
    "fruits = ['banana', 'apple', 'orange', 'tomato', 'pear', 'grape']\n",
    "\n",
    "print 'You have...'\n",
    "for f in fruits:\n",
    "  if f == 'tomato':\n",
    "    print 'A tomato is not a fruit!' # (It actually is.)\n",
    "   \n",
    "  print 'A', f\n",
    "else:\n",
    "  print 'A fine selection of fruits!'"
   ]
  },
  {
   "cell_type": "code",
   "execution_count": 25,
   "metadata": {
    "collapsed": false
   },
   "outputs": [
    {
     "name": "stdout",
     "output_type": "stream",
     "text": [
      "this is the color red\n",
      "it's not red\n",
      "it's not red\n",
      "it's not red\n",
      "it's not red\n"
     ]
    }
   ],
   "source": [
    "choices = [\"red\", \"yellow\", \"blue\", \"pink\", \"brown\"]\n",
    "\n",
    "for item in choices:\n",
    "  if item == \"red\":\n",
    "    print \"this is the color red\"\n",
    "  else:\n",
    "    print \"it's not red\"\n",
    "  "
   ]
  },
  {
   "cell_type": "code",
   "execution_count": null,
   "metadata": {
    "collapsed": true
   },
   "outputs": [],
   "source": []
  }
 ],
 "metadata": {
  "kernelspec": {
   "display_name": "Python [conda env:python27]",
   "language": "python",
   "name": "conda-env-python27-py"
  },
  "language_info": {
   "codemirror_mode": {
    "name": "ipython",
    "version": 2
   },
   "file_extension": ".py",
   "mimetype": "text/x-python",
   "name": "python",
   "nbconvert_exporter": "python",
   "pygments_lexer": "ipython2",
   "version": "2.7.14"
  }
 },
 "nbformat": 4,
 "nbformat_minor": 1
}
