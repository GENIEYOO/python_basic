{
 "cells": [
  {
   "cell_type": "code",
   "execution_count": 1,
   "metadata": {
    "collapsed": true
   },
   "outputs": [],
   "source": [
    "# Delete the 'Sloth' and 'Bengal Tiger' items from zoo_animals using del.\n",
    "\n",
    "# Set the value associated with 'Rockhopper Penguin' to anything other than 'Arctic Exhibit'."
   ]
  },
  {
   "cell_type": "code",
   "execution_count": 2,
   "metadata": {
    "collapsed": false
   },
   "outputs": [
    {
     "name": "stdout",
     "output_type": "stream",
     "text": [
      "{'Atlantic Puffin': 'Arctic Exhibit', 'Rockhopper Penguin': 'happy J'}\n"
     ]
    }
   ],
   "source": [
    "# key - animal_name : value - location \n",
    "zoo_animals = { 'Unicorn' : 'Cotton Candy House',\n",
    "'Sloth' : 'Rainforest Exhibit',\n",
    "'Bengal Tiger' : 'Jungle House',\n",
    "'Atlantic Puffin' : 'Arctic Exhibit',\n",
    "'Rockhopper Penguin' : 'Arctic Exhibit'}\n",
    "# A dictionary (or list) declaration may break across multiple lines\n",
    "\n",
    "# Removing the 'Unicorn' entry. (Unicorns are incredibly expensive.)\n",
    "del zoo_animals['Unicorn']\n",
    "del zoo_animals['Sloth']\n",
    "del zoo_animals['Bengal Tiger']\n",
    "# Your code here!\n",
    "zoo_animals['Rockhopper Penguin'] = 'happy J'\n",
    "\n",
    "\n",
    "\n",
    "print zoo_animals"
   ]
  },
  {
   "cell_type": "code",
   "execution_count": 4,
   "metadata": {
    "collapsed": false
   },
   "outputs": [],
   "source": [
    "# Remove 'dagger' from the list of items stored in the backpack variable."
   ]
  },
  {
   "cell_type": "code",
   "execution_count": 7,
   "metadata": {
    "collapsed": false
   },
   "outputs": [
    {
     "name": "stdout",
     "output_type": "stream",
     "text": [
      "['xylophone', 'tent', 'bread loaf']\n"
     ]
    }
   ],
   "source": [
    "backpack = ['xylophone', 'dagger', 'tent', 'bread loaf']\n",
    "backpack.remove('dagger')\n",
    "print backpack"
   ]
  },
  {
   "cell_type": "code",
   "execution_count": 8,
   "metadata": {
    "collapsed": true
   },
   "outputs": [],
   "source": [
    "# dictionary"
   ]
  },
  {
   "cell_type": "code",
   "execution_count": 9,
   "metadata": {
    "collapsed": true
   },
   "outputs": [],
   "source": [
    "inventory = {\n",
    "  'gold' : 500,\n",
    "  'pouch' : ['flint', 'twine', 'gemstone'], # Assigned a new list to 'pouch' key\n",
    "  'backpack' : ['xylophone','dagger', 'bedroll','bread loaf']\n",
    "}\n",
    "\n",
    "# Adding a key 'burlap bag' and assigning a list to it\n",
    "inventory['burlap bag'] = ['apple', 'small ruby', 'three-toed sloth']\n",
    "\n",
    "# Sorting the list found under the key 'pouch'\n",
    "inventory['pouch'].sort() \n",
    "\n",
    "# Your code here\n",
    "inventory['pocket'] = ['seashell', 'strange berry', 'lint']\n",
    "inventory['backpack'].sort()\n",
    "inventory['backpack'].remove('dagger')\n",
    "inventory['gold'] = inventory['gold'] + 50\n"
   ]
  },
  {
   "cell_type": "code",
   "execution_count": 11,
   "metadata": {
    "collapsed": false
   },
   "outputs": [],
   "source": [
    "# python for loop"
   ]
  },
  {
   "cell_type": "code",
   "execution_count": 12,
   "metadata": {
    "collapsed": false
   },
   "outputs": [
    {
     "name": "stdout",
     "output_type": "stream",
     "text": [
      "Adam\n",
      "Alex\n",
      "Mariah\n",
      "Martine\n",
      "Columbus\n"
     ]
    }
   ],
   "source": [
    "names = [\"Adam\",\"Alex\",\"Mariah\",\"Martine\",\"Columbus\"]\n",
    "\n",
    "for x in names:\n",
    "  print x"
   ]
  },
  {
   "cell_type": "code",
   "execution_count": 13,
   "metadata": {
    "collapsed": false
   },
   "outputs": [
    {
     "name": "stdout",
     "output_type": "stream",
     "text": [
      "A star of a popular children's cartoon show.\n",
      "Goes on the floor.\n",
      "A small amount.\n",
      "The sound a goat makes.\n"
     ]
    }
   ],
   "source": [
    "webster = {\n",
    "  \"Aardvark\" : \"A star of a popular children's cartoon show.\",\n",
    "  \"Baa\" : \"The sound a goat makes.\",\n",
    "  \"Carpet\": \"Goes on the floor.\",\n",
    "  \"Dab\": \"A small amount.\"\n",
    "}\n",
    "\n",
    "# Add your code below!\n",
    "for key in webster:\n",
    "  print webster[key]"
   ]
  },
  {
   "cell_type": "code",
   "execution_count": 14,
   "metadata": {
    "collapsed": true
   },
   "outputs": [],
   "source": [
    "# control flow looping"
   ]
  },
  {
   "cell_type": "code",
   "execution_count": 15,
   "metadata": {
    "collapsed": false
   },
   "outputs": [
    {
     "name": "stdout",
     "output_type": "stream",
     "text": [
      "0\n",
      "2\n",
      "4\n",
      "6\n",
      "8\n",
      "10\n",
      "12\n"
     ]
    }
   ],
   "source": [
    "a = [0, 1, 2, 3, 4, 5, 6, 7, 8, 9, 10, 11, 12, 13]\n",
    "\n",
    "for number in a:\n",
    "  if number % 2 == 0:\n",
    "    print number"
   ]
  },
  {
   "cell_type": "code",
   "execution_count": 16,
   "metadata": {
    "collapsed": true
   },
   "outputs": [],
   "source": [
    "# Lists + Functions\n",
    "# Write a function that counts how many times the string \"fizz\" appears in a list."
   ]
  },
  {
   "cell_type": "code",
   "execution_count": 17,
   "metadata": {
    "collapsed": false
   },
   "outputs": [
    {
     "name": "stdout",
     "output_type": "stream",
     "text": [
      "2\n"
     ]
    }
   ],
   "source": [
    "def fizz_count(x):\n",
    "  count = 0\n",
    "  for item in x:\n",
    "    if item == \"fizz\":\n",
    "      count = count + 1\n",
    "  return count\n",
    "\n",
    "print fizz_count([\"fizz\", \"cat\", \"fizz\"])"
   ]
  },
  {
   "cell_type": "code",
   "execution_count": 21,
   "metadata": {
    "collapsed": false
   },
   "outputs": [
    {
     "name": "stdout",
     "output_type": "stream",
     "text": [
      "C\n",
      "o\n",
      "d\n",
      "a\n",
      "c\n",
      "a\n",
      "d\n",
      "e\n",
      "m\n",
      "y\n",
      "\n",
      "\n",
      "i\n",
      "i\n"
     ]
    }
   ],
   "source": [
    "for letter in \"Codacademy\":\n",
    "    print letter\n",
    "print\n",
    "print\n",
    "\n",
    "word = \"Programming is fun!\"\n",
    "\n",
    "for letter in word:\n",
    "    if letter == \"i\":\n",
    "        print letter"
   ]
  },
  {
   "cell_type": "code",
   "execution_count": 23,
   "metadata": {
    "collapsed": false
   },
   "outputs": [
    {
     "name": "stdout",
     "output_type": "stream",
     "text": [
      "Once: 1\n",
      "Twice: 2\n",
      "Once: 2\n",
      "Twice: 4\n"
     ]
    }
   ],
   "source": [
    "once = {'a':1, 'b': 2}\n",
    "twice = {'a':2, 'b': 4}\n",
    "for key in once:\n",
    "    print \"Once: %s\" %once[key]\n",
    "    print \"Twice: %s\" %twice[key]"
   ]
  },
  {
   "cell_type": "code",
   "execution_count": 25,
   "metadata": {
    "collapsed": false
   },
   "outputs": [
    {
     "name": "stdout",
     "output_type": "stream",
     "text": [
      "orange\n",
      "price: 1.5\n",
      "stock 32\n",
      "pear\n",
      "price: 3\n",
      "stock 15\n",
      "banana\n",
      "price: 4\n",
      "stock 6\n",
      "apple\n",
      "price: 2\n",
      "stock 0\n"
     ]
    }
   ],
   "source": [
    "prices = {\"banana\": 4, \"apple\":2, \"orange\": 1.5, \"pear\": 3}\n",
    "stocks = {\"banana\": 6, \"apple\": 0, \"orange\":32, \"pear\":15}\n",
    "\n",
    "for food in prices:\n",
    "    print food\n",
    "    print \"price: %s\" %prices[food]\n",
    "    print \"stock %s\" %stocks[food]"
   ]
  },
  {
   "cell_type": "code",
   "execution_count": 26,
   "metadata": {
    "collapsed": true
   },
   "outputs": [],
   "source": [
    "# Create a variable called total and set it to zero.\n",
    "# Loop through the prices dictionary.\n",
    "# For each key in prices, multiply the number in prices by the number in stock. Print that value into the console and then add it to total.\n",
    "# Finally, outside your loop, print total."
   ]
  },
  {
   "cell_type": "code",
   "execution_count": 27,
   "metadata": {
    "collapsed": false
   },
   "outputs": [
    {
     "name": "stdout",
     "output_type": "stream",
     "text": [
      "orange\n",
      "price: 1.5\n",
      "stock: 32\n",
      "pear\n",
      "price: 3\n",
      "stock: 15\n",
      "banana\n",
      "price: 4\n",
      "stock: 6\n",
      "apple\n",
      "price: 2\n",
      "stock: 0\n",
      "48.0\n",
      "45\n",
      "24\n",
      "0\n",
      "117.0\n"
     ]
    }
   ],
   "source": [
    "prices = {\n",
    "  \"banana\" : 4,\n",
    "  \"apple\"  : 2,\n",
    "  \"orange\" : 1.5,\n",
    "  \"pear\"   : 3,\n",
    "}\n",
    "stock = {\n",
    "  \"banana\" : 6,\n",
    "  \"apple\"  : 0,\n",
    "  \"orange\" : 32,\n",
    "  \"pear\"   : 15,\n",
    "}\n",
    "\n",
    "for key in prices:\n",
    "  print key\n",
    "  print \"price: %s\" % prices[key]\n",
    "  print \"stock: %s\" % stock[key]\n",
    "  \n",
    "total = 0\n",
    "\n",
    "for key in prices:\n",
    "  print  prices[key] * stock[key]\n",
    "  total = total + prices[key] * stock[key]\n",
    " \n",
    "print total"
   ]
  },
  {
   "cell_type": "code",
   "execution_count": 28,
   "metadata": {
    "collapsed": true
   },
   "outputs": [],
   "source": [
    "# Define a function compute_bill that takes one argument food as input.\n",
    "\n",
    "# In the function, create a variable total with an initial value of zero.\n",
    "\n",
    "# For each item in the food list, add the price of that item to total.\n",
    "\n",
    "# Finally, return the total.\n",
    "\n",
    "# Ignore whether or not the item you're billing for is in stock.Note that your function should work for any food list."
   ]
  },
  {
   "cell_type": "code",
   "execution_count": 29,
   "metadata": {
    "collapsed": false
   },
   "outputs": [
    {
     "name": "stdout",
     "output_type": "stream",
     "text": [
      "117.0\n"
     ]
    }
   ],
   "source": [
    "shopping_list = [\"banana\", \"orange\", \"apple\"]\n",
    "\n",
    "stock = {\n",
    "  \"banana\": 6,\n",
    "  \"apple\": 0,\n",
    "  \"orange\": 32,\n",
    "  \"pear\": 15\n",
    "}\n",
    "    \n",
    "prices = {\n",
    "  \"banana\": 4,\n",
    "  \"apple\": 2,\n",
    "  \"orange\": 1.5,\n",
    "  \"pear\": 3\n",
    "}\n",
    "\n",
    "# Write your code below!\n",
    "def compute_bill(food):\n",
    "  total = 0\n",
    "  for key in food:\n",
    "  \ttotal += prices[key]\n",
    "  \n",
    "  return total\n",
    "\n",
    "print total"
   ]
  },
  {
   "cell_type": "code",
   "execution_count": 31,
   "metadata": {
    "collapsed": false
   },
   "outputs": [],
   "source": [
    "shopping_list = [\"banana\", \"orange\", \"apple\"]\n",
    "\n",
    "stock = {\n",
    "  \"banana\": 6,\n",
    "  \"apple\": 0,\n",
    "  \"orange\": 32,\n",
    "  \"pear\": 15\n",
    "}\n",
    "    \n",
    "prices = {\n",
    "  \"banana\": 4,\n",
    "  \"apple\": 2,\n",
    "  \"orange\": 1.5,\n",
    "  \"pear\": 3\n",
    "}\n",
    "\n",
    "# Write your code below!\n",
    "def compute_bill(food):\n",
    "  total = 0\n",
    "  for item in food:\n",
    "    if stock[item] > 0:\n",
    "      total = total + prices[item]\n",
    "      stock[item] = stock[item] - 1\n",
    "  return total\n"
   ]
  },
  {
   "cell_type": "code",
   "execution_count": 32,
   "metadata": {
    "collapsed": false
   },
   "outputs": [
    {
     "name": "stdout",
     "output_type": "stream",
     "text": [
      "117.0\n"
     ]
    }
   ],
   "source": [
    "print total"
   ]
  },
  {
   "cell_type": "code",
   "execution_count": 33,
   "metadata": {
    "collapsed": true
   },
   "outputs": [],
   "source": [
    "# Using for loops with lists and dictionaries\n",
    "# Writing functions with loops, lists, and dictionaries\n",
    "# Updating data in response to changes in the environment (for instance, decreasing the number of bananas in stock by 1 when you sell one)."
   ]
  },
  {
   "cell_type": "code",
   "execution_count": null,
   "metadata": {
    "collapsed": true
   },
   "outputs": [],
   "source": []
  }
 ],
 "metadata": {
  "anaconda-cloud": {},
  "kernelspec": {
   "display_name": "Python [conda env:python27]",
   "language": "python",
   "name": "conda-env-python27-py"
  },
  "language_info": {
   "codemirror_mode": {
    "name": "ipython",
    "version": 2
   },
   "file_extension": ".py",
   "mimetype": "text/x-python",
   "name": "python",
   "nbconvert_exporter": "python",
   "pygments_lexer": "ipython2",
   "version": "2.7.14"
  }
 },
 "nbformat": 4,
 "nbformat_minor": 1
}
