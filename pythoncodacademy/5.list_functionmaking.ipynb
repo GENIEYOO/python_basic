{
 "cells": [
  {
   "cell_type": "code",
   "execution_count": 1,
   "metadata": {
    "collapsed": true
   },
   "outputs": [],
   "source": [
    "# n.pop(index)\n",
    "# n.remove(item)\n",
    "# del(n[1])"
   ]
  },
  {
   "cell_type": "code",
   "execution_count": 2,
   "metadata": {
    "collapsed": false
   },
   "outputs": [
    {
     "name": "stdout",
     "output_type": "stream",
     "text": [
      "3\n",
      "5\n",
      "7\n"
     ]
    }
   ],
   "source": [
    "n = [3, 5, 7]\n",
    "\n",
    "def print_list(x):\n",
    "    for i in range(0, len(x)):\n",
    "        print x[i]\n",
    "\n",
    "print_list(n)"
   ]
  },
  {
   "cell_type": "code",
   "execution_count": 3,
   "metadata": {
    "collapsed": true
   },
   "outputs": [],
   "source": [
    "n = [3, 5, 7]\n",
    "\n",
    "for i in range(0, len(n)):\n",
    "    n[i] = n[i]*2"
   ]
  },
  {
   "cell_type": "code",
   "execution_count": 4,
   "metadata": {
    "collapsed": false
   },
   "outputs": [
    {
     "name": "stdout",
     "output_type": "stream",
     "text": [
      "[12, 20, 28]\n"
     ]
    }
   ],
   "source": [
    "n = [3, 5, 7]\n",
    "\n",
    "for i in range(0, len(n)):\n",
    "    n[i] = n[i] * 2\n",
    "# Don't forget to return your new list!\n",
    "def double_list(x):\n",
    "  for i in range(0,len(x)):\n",
    "    x[i] = x[i] * 2\n",
    "  return x\n",
    "\n",
    "print double_list(n)"
   ]
  },
  {
   "cell_type": "code",
   "execution_count": 5,
   "metadata": {
    "collapsed": true
   },
   "outputs": [],
   "source": [
    "# python range = ?  => shortcut for generating list\n",
    "#                     => range is actually index range"
   ]
  },
  {
   "cell_type": "code",
   "execution_count": 6,
   "metadata": {
    "collapsed": true
   },
   "outputs": [],
   "source": [
    "# range(stop)\n",
    "# range(start, stop)\n",
    "# range(start, stop, step)"
   ]
  },
  {
   "cell_type": "code",
   "execution_count": 12,
   "metadata": {
    "collapsed": false
   },
   "outputs": [
    {
     "name": "stdout",
     "output_type": "stream",
     "text": [
      "[0, 2, 4]\n"
     ]
    }
   ],
   "source": [
    "def my_function(x):\n",
    "  for i in range(0, len(x)):\n",
    "    x[i] = x[i] * 2\n",
    "  return x\n",
    "\n",
    "print my_function(range(3)) # Add your range between the parentheses!"
   ]
  },
  {
   "cell_type": "code",
   "execution_count": 14,
   "metadata": {
    "collapsed": true
   },
   "outputs": [],
   "source": [
    "# Method 1 - for item in list:\n",
    "\n",
    "# for item in list:\n",
    "#   print item\n",
    "# Method 2 - iterate through indexes:\n",
    "\n",
    "# for i in range(len(list)):\n",
    "#   print list[i]\n",
    "# method 2 can modify list contents"
   ]
  },
  {
   "cell_type": "code",
   "execution_count": 15,
   "metadata": {
    "collapsed": true
   },
   "outputs": [],
   "source": [
    "n = [3, 5, 7]\n",
    "\n",
    "def total(numbers):\n",
    "  result = 0\n",
    "  for i in range(0, len(numbers)):\n",
    "    result = result + numbers[i]\n",
    "  return result\n"
   ]
  },
  {
   "cell_type": "code",
   "execution_count": 16,
   "metadata": {
    "collapsed": true
   },
   "outputs": [],
   "source": [
    "def join_strings(words):\n",
    "  result = \"\"\n",
    "  for i in range(0, len(words)):\n",
    "    result = result + words[i]\n",
    "  return result\n"
   ]
  },
  {
   "cell_type": "code",
   "execution_count": 17,
   "metadata": {
    "collapsed": false
   },
   "outputs": [
    {
     "name": "stdout",
     "output_type": "stream",
     "text": [
      "[1, 2, 3, 4, 5, 6]\n"
     ]
    }
   ],
   "source": [
    "m = [1, 2, 3]\n",
    "n = [4, 5, 6]\n",
    "\n",
    "# Add your code here!\n",
    "def join_lists(x,y):\n",
    "  return x + y\n",
    "\n",
    "\n",
    "\n",
    "\n",
    "print join_lists(m, n)\n",
    "# You want this to print [1, 2, 3, 4, 5, 6]"
   ]
  },
  {
   "cell_type": "code",
   "execution_count": 18,
   "metadata": {
    "collapsed": true
   },
   "outputs": [],
   "source": [
    "n = [[1, 2, 3], [4, 5, 6, 7, 8, 9]]"
   ]
  },
  {
   "cell_type": "code",
   "execution_count": 19,
   "metadata": {
    "collapsed": false
   },
   "outputs": [
    {
     "name": "stdout",
     "output_type": "stream",
     "text": [
      "[1, 2, 3, 4, 5, 6, 7, 8, 9]\n"
     ]
    }
   ],
   "source": [
    "def flatten(lists):\n",
    "    results=[]\n",
    "    for numbers in lists:\n",
    "        for number in numbers:\n",
    "            results.append(number)\n",
    "    return results\n",
    "\n",
    "print flatten(n)"
   ]
  },
  {
   "cell_type": "code",
   "execution_count": null,
   "metadata": {
    "collapsed": true
   },
   "outputs": [],
   "source": []
  }
 ],
 "metadata": {
  "anaconda-cloud": {},
  "kernelspec": {
   "display_name": "Python [conda env:python27]",
   "language": "python",
   "name": "conda-env-python27-py"
  },
  "language_info": {
   "codemirror_mode": {
    "name": "ipython",
    "version": 2
   },
   "file_extension": ".py",
   "mimetype": "text/x-python",
   "name": "python",
   "nbconvert_exporter": "python",
   "pygments_lexer": "ipython2",
   "version": "2.7.14"
  }
 },
 "nbformat": 4,
 "nbformat_minor": 1
}
