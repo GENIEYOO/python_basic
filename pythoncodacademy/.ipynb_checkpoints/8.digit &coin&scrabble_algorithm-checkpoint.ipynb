{
 "cells": [
  {
   "cell_type": "code",
   "execution_count": 3,
   "metadata": {
    "collapsed": true
   },
   "outputs": [],
   "source": [
    "def is_int(x):\n",
    "    absolute = abs(x)\n",
    "    rounded = round(absoulute)\n",
    "    return absolute - rounded == 0\n",
    "#정수인지 확인 로직 절대값과 (round: 실수를 정수로 반올림 한 값)이 같으면\n"
   ]
  },
  {
   "cell_type": "code",
   "execution_count": 5,
   "metadata": {
    "collapsed": true
   },
   "outputs": [],
   "source": [
    "#자릿수 덧셈 짜기\n",
    "\n",
    "def digit_sum(n):\n",
    "  \n",
    "  n = str(n)\n",
    "  total = 0\n",
    "  for i in n:\n",
    "    i= int(i)\n",
    "    total +=i\n",
    "  return total"
   ]
  },
  {
   "cell_type": "code",
   "execution_count": 1,
   "metadata": {
    "collapsed": false,
    "scrolled": true
   },
   "outputs": [],
   "source": [
    "#10으로 나눠서 하는 방법-? 이건 다시 생각 can't assign to operator\n",
    "def digit_sum(n):\n",
    "    n = abs(n)\n",
    "    total = 0\n",
    "    while n >= 1:\n",
    "        #한 자릿수가 될 때까지\n",
    "        total += (n % 10)\n",
    "        n = n // 10\n",
    "    return total\n",
    "        # 원래자릿수에서 한자릿수 없애고 + 끝의 자리수 더하기\n",
    "        #while을 쓸 생각!!!! 한자릿수만 남을 때 까지!"
   ]
  },
  {
   "cell_type": "code",
   "execution_count": 2,
   "metadata": {
    "collapsed": false
   },
   "outputs": [
    {
     "name": "stdout",
     "output_type": "stream",
     "text": [
      "[1, 5, 10, 50, 100, 500, 1000, 5000, 10000, 50000]\n"
     ]
    }
   ],
   "source": [
    "#유사문제\n",
    "#백준알고리즘 0번\n",
    "#동전의 종류\n",
    "array = range(10)\n",
    "result = []\n",
    "for index in array:\n",
    "    if array[index] == 0:\n",
    "        result.append(1)\n",
    "    elif array[index] == 1:\n",
    "        result.append(5)\n",
    "    else:\n",
    "        if array[index] % 2 == 0:\n",
    "            result.append(10 ** (index/2))\n",
    "        else:\n",
    "            result.append(10 ** ((index-1)/2)*5)\n",
    "        \n",
    "print result\n",
    "\n",
    "#이렇게 뽑으면 차라리 치는게 나음\n",
    "\n"
   ]
  },
  {
   "cell_type": "code",
   "execution_count": 2,
   "metadata": {
    "collapsed": true
   },
   "outputs": [],
   "source": [
    "n_array = [1, 5, 10, 50, 100, 500, 1000, 5000, 10000, 50000]"
   ]
  },
  {
   "cell_type": "code",
   "execution_count": 3,
   "metadata": {
    "collapsed": false
   },
   "outputs": [],
   "source": [
    "n_array = [1, 5, 10, 50, 100, 500, 1000, 5000, 10000, 50000]\n",
    "def coin_minimum(k):\n",
    "    #큰 걸로 나눠야 제일 최소갯수\n",
    "    n = 0\n",
    "    total = 0\n",
    "    while k>=1: \n",
    "        #리스트의 첫 번재 숫자가 1이므로 나누는 수를 크게 신경쓰지 않아도 됨.\n",
    "        for i in range(9, 0,-1):\n",
    "            n += k//n_array[i]\n",
    "            k = k%n_array[i]\n",
    "        \n",
    "    \n",
    "    print n\n",
    "    #이거 1원 남을 때는 계속 버퍼생김 다른 자리는 됨."
   ]
  },
  {
   "cell_type": "code",
   "execution_count": 6,
   "metadata": {
    "collapsed": false
   },
   "outputs": [
    {
     "name": "stdout",
     "output_type": "stream",
     "text": [
      "5\n"
     ]
    }
   ],
   "source": [
    "coin_minimum(450)"
   ]
  },
  {
   "cell_type": "code",
   "execution_count": 9,
   "metadata": {
    "collapsed": false
   },
   "outputs": [],
   "source": [
    "n_array = [1, 5, 10, 50, 100, 500, 1000, 5000, 10000, 50000]\n",
    "def coin_minimum(k):\n",
    "    #큰 걸로 나눠야 제일 최소갯수\n",
    "    n = 0\n",
    "    total = 0\n",
    "    \n",
    "    while k>=5: \n",
    "        #리스트의 첫 번재 숫자가 1이므로 나누는 수를 크게 신경쓰지 않아도 됨.\n",
    "        for i in range(9, 1,-1):\n",
    "            n += k//n_array[i]\n",
    "            k = k%n_array[i]\n",
    "        break;\n",
    "    if k <5:\n",
    "        n = n +k\n",
    "        #while문 추가하고 break걸고 if 문 추가하니 됨!. while문 버퍼주의!\n",
    "    \n",
    "    print n\n"
   ]
  },
  {
   "cell_type": "code",
   "execution_count": 13,
   "metadata": {
    "collapsed": false
   },
   "outputs": [
    {
     "name": "stdout",
     "output_type": "stream",
     "text": [
      "3\n"
     ]
    }
   ],
   "source": [
    "coin_minimum(15001)"
   ]
  },
  {
   "cell_type": "code",
   "execution_count": 55,
   "metadata": {
    "collapsed": true
   },
   "outputs": [],
   "source": [
    "k = 49500"
   ]
  },
  {
   "cell_type": "code",
   "execution_count": 56,
   "metadata": {
    "collapsed": false
   },
   "outputs": [
    {
     "name": "stdout",
     "output_type": "stream",
     "text": [
      "4950\n"
     ]
    }
   ],
   "source": [
    "coin_minimum(k)"
   ]
  },
  {
   "cell_type": "code",
   "execution_count": 8,
   "metadata": {
    "collapsed": true
   },
   "outputs": [],
   "source": [
    "# factorial function 만들기"
   ]
  },
  {
   "cell_type": "code",
   "execution_count": 9,
   "metadata": {
    "collapsed": true
   },
   "outputs": [],
   "source": [
    "def factorial(x):\n",
    "    result = 1\n",
    "    for i in range(1, x+1):\n",
    "        result = result * i\n",
    "    return result"
   ]
  },
  {
   "cell_type": "code",
   "execution_count": 13,
   "metadata": {
    "collapsed": true
   },
   "outputs": [],
   "source": [
    "#소수인가 판단 prime_number\n",
    "#양의 약수가 1과 자기자신 뿐인 수\n",
    "def is_prime(x):\n",
    "    if x < 2:\n",
    "        return False\n",
    "    #1은 소수가 될 수 없으므로 제외\n",
    "    else:\n",
    "        for n in range(2, x-1):\n",
    "            if x % n ==0:\n",
    "                return False\n",
    "            #나누어떨어지는게 있으면 소수 아님.\n",
    "        return True\n",
    "#1을 제외한 수들 중에서 나누 약수가 있으면 소수아니고 약수가 없으면 소수"
   ]
  },
  {
   "cell_type": "code",
   "execution_count": 14,
   "metadata": {
    "collapsed": false
   },
   "outputs": [
    {
     "data": {
      "text/plain": [
       "' nohtyP'"
      ]
     },
     "execution_count": 14,
     "metadata": {},
     "output_type": "execute_result"
    }
   ],
   "source": [
    "\n",
    "def reverse(text):\n",
    "    word = \" \"\n",
    "    l = len(text) - 1\n",
    "    while l >= 0:\n",
    "        word = word + text[l]\n",
    "        l -= 1\n",
    "    return word\n",
    "\n",
    "reverse(\"Python\")"
   ]
  },
  {
   "cell_type": "code",
   "execution_count": 15,
   "metadata": {
    "collapsed": true
   },
   "outputs": [],
   "source": [
    "say = \"saysomething\""
   ]
  },
  {
   "cell_type": "code",
   "execution_count": 16,
   "metadata": {
    "collapsed": false
   },
   "outputs": [
    {
     "data": {
      "text/plain": [
       "'y'"
      ]
     },
     "execution_count": 16,
     "metadata": {},
     "output_type": "execute_result"
    }
   ],
   "source": [
    "say[2]"
   ]
  },
  {
   "cell_type": "code",
   "execution_count": 21,
   "metadata": {
    "collapsed": true
   },
   "outputs": [],
   "source": [
    "integer = 12345\n"
   ]
  },
  {
   "cell_type": "code",
   "execution_count": 22,
   "metadata": {
    "collapsed": false
   },
   "outputs": [
    {
     "ename": "TypeError",
     "evalue": "'int' object has no attribute '__getitem__'",
     "output_type": "error",
     "traceback": [
      "\u001b[1;31m---------------------------------------------------------------------------\u001b[0m",
      "\u001b[1;31mTypeError\u001b[0m                                 Traceback (most recent call last)",
      "\u001b[1;32m<ipython-input-22-2aeffe31b5bc>\u001b[0m in \u001b[0;36m<module>\u001b[1;34m()\u001b[0m\n\u001b[1;32m----> 1\u001b[1;33m \u001b[0minteger\u001b[0m\u001b[1;33m[\u001b[0m\u001b[1;36m2\u001b[0m\u001b[1;33m]\u001b[0m\u001b[1;33m\u001b[0m\u001b[0m\n\u001b[0m",
      "\u001b[1;31mTypeError\u001b[0m: 'int' object has no attribute '__getitem__'"
     ]
    }
   ],
   "source": [
    "integer[2]"
   ]
  },
  {
   "cell_type": "code",
   "execution_count": 23,
   "metadata": {
    "collapsed": true
   },
   "outputs": [],
   "source": [
    "integer = \"12345\""
   ]
  },
  {
   "cell_type": "code",
   "execution_count": 24,
   "metadata": {
    "collapsed": false
   },
   "outputs": [
    {
     "data": {
      "text/plain": [
       "'3'"
      ]
     },
     "execution_count": 24,
     "metadata": {},
     "output_type": "execute_result"
    }
   ],
   "source": [
    "integer[2]"
   ]
  },
  {
   "cell_type": "code",
   "execution_count": 25,
   "metadata": {
    "collapsed": true
   },
   "outputs": [],
   "source": [
    "#string can bring item by index like list!!"
   ]
  },
  {
   "cell_type": "code",
   "execution_count": 28,
   "metadata": {
    "collapsed": false
   },
   "outputs": [],
   "source": [
    "def anti_vowl(text):\n",
    "    t = \"\"\n",
    "    #변수 t생성\n",
    "    for c in text:\n",
    "    #텍스트안에 있는 낱글자를 도는데\n",
    "        for i in \"ieouIAEOU\":\n",
    "        #모음을 한바퀴 놀아서\n",
    "            if c == i:\n",
    "                c = \"\"\n",
    "            #낱글자에 모음이 있으면 공란으로\n",
    "            else:\n",
    "                c =c\n",
    "            #아니면 그냥 낱글자로\n",
    "        t = t + c\n",
    "        #빈 변수에 낱글자를 추가한다.\n",
    "    return t\n",
    "    # 낱글자 출력"
   ]
  },
  {
   "cell_type": "code",
   "execution_count": 33,
   "metadata": {
    "collapsed": false
   },
   "outputs": [],
   "source": [
    "def anti_vowel(text):\n",
    "    t = \" \"\n",
    "    for item in text:\n",
    "        for i in \"AEIOUaeiou\":\n",
    "            if item == i:\n",
    "                item = \" \"\n",
    "            else : \n",
    "                item = item\n",
    "        t = t + item\n",
    "    return t\n",
    "    \n",
    "    \n",
    "            "
   ]
  },
  {
   "cell_type": "code",
   "execution_count": 34,
   "metadata": {
    "collapsed": false
   },
   "outputs": [
    {
     "data": {
      "text/plain": [
       "' h y n c  t  m  t y  '"
      ]
     },
     "execution_count": 34,
     "metadata": {},
     "output_type": "execute_result"
    }
   ],
   "source": [
    "anti_vowel(\"hey nice to meet you\")"
   ]
  },
  {
   "cell_type": "code",
   "execution_count": null,
   "metadata": {
    "collapsed": true
   },
   "outputs": [],
   "source": []
  },
  {
   "cell_type": "code",
   "execution_count": 39,
   "metadata": {
    "collapsed": true
   },
   "outputs": [],
   "source": [
    "score = {\"a\": 1, \"c\": 3, \"b\": 3, \"e\": 1, \"d\": 2, \"g\": 2, \n",
    "         \"f\": 4, \"i\": 1, \"h\": 4, \"k\": 5, \"j\": 8, \"m\": 3, \n",
    "         \"l\": 1, \"o\": 1, \"n\": 1, \"q\": 10, \"p\": 3, \"s\": 1, \n",
    "         \"r\": 1, \"u\": 1, \"t\": 1, \"w\": 4, \"v\": 4, \"y\": 4, \n",
    "         \"x\": 8, \"z\": 10}"
   ]
  },
  {
   "cell_type": "code",
   "execution_count": 42,
   "metadata": {
    "collapsed": true
   },
   "outputs": [],
   "source": [
    "def scrabble_score(word):\n",
    "  word = word.lower()\n",
    "  total = 0\n",
    "  for letter in word:\n",
    "    for leter in score:\n",
    "      if letter == leter:\n",
    "        total = total + score[leter]\n",
    "  return total"
   ]
  },
  {
   "cell_type": "code",
   "execution_count": 43,
   "metadata": {
    "collapsed": false
   },
   "outputs": [
    {
     "data": {
      "text/plain": [
       "7"
      ]
     },
     "execution_count": 43,
     "metadata": {},
     "output_type": "execute_result"
    }
   ],
   "source": [
    "scrabble_score(\"abc\")"
   ]
  },
  {
   "cell_type": "code",
   "execution_count": 44,
   "metadata": {
    "collapsed": true
   },
   "outputs": [],
   "source": [
    "def scrabble_score(word):\n",
    "  word = word.lower()\n",
    "  score_now = 0\n",
    "  for w in word:\n",
    "    score_now += score[w]\n",
    "  print score_now"
   ]
  },
  {
   "cell_type": "code",
   "execution_count": 45,
   "metadata": {
    "collapsed": true
   },
   "outputs": [],
   "source": [
    "def censor(text, word):\n",
    "    words = text.split()\n",
    "    result = ''\n",
    "    stars = '*' * len(word)\n",
    "    count = 0\n",
    "    for i in words:\n",
    "        if i == word:\n",
    "            words[count] = stars\n",
    "        count += 1\n",
    "    result = ' '.join(words)\n",
    "    return result\n",
    "\n"
   ]
  },
  {
   "cell_type": "code",
   "execution_count": 1,
   "metadata": {
    "collapsed": false
   },
   "outputs": [
    {
     "data": {
      "text/plain": [
       "52"
      ]
     },
     "execution_count": 1,
     "metadata": {},
     "output_type": "execute_result"
    }
   ],
   "source": [
    "156//3"
   ]
  },
  {
   "cell_type": "code",
   "execution_count": 2,
   "metadata": {
    "collapsed": false
   },
   "outputs": [
    {
     "data": {
      "text/plain": [
       "22"
      ]
     },
     "execution_count": 2,
     "metadata": {},
     "output_type": "execute_result"
    }
   ],
   "source": [
    "156//7"
   ]
  },
  {
   "cell_type": "code",
   "execution_count": null,
   "metadata": {
    "collapsed": true
   },
   "outputs": [],
   "source": []
  }
 ],
 "metadata": {
  "anaconda-cloud": {},
  "kernelspec": {
   "display_name": "Python [conda env:python27]",
   "language": "python",
   "name": "conda-env-python27-py"
  },
  "language_info": {
   "codemirror_mode": {
    "name": "ipython",
    "version": 2
   },
   "file_extension": ".py",
   "mimetype": "text/x-python",
   "name": "python",
   "nbconvert_exporter": "python",
   "pygments_lexer": "ipython2",
   "version": "2.7.14"
  }
 },
 "nbformat": 4,
 "nbformat_minor": 1
}
